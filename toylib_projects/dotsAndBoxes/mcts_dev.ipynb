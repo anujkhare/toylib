{
 "cells": [
  {
   "cell_type": "code",
   "execution_count": null,
   "metadata": {},
   "outputs": [],
   "source": [
    "from toylib_projects.dotsAndBoxes import dots_and_boxes\n",
    "from toylib_projects.dotsAndBoxes import players\n",
    "from toylib_projects.dotsAndBoxes.interfaces import visualize"
   ]
  },
  {
   "cell_type": "code",
   "execution_count": null,
   "metadata": {},
   "outputs": [],
   "source": [
    "from IPython.display import clear_output\n",
    "\n",
    "\n",
    "def play_interactive(game, player_fns: list[callable] | None = None):\n",
    "    \"\"\"player_fns is a list of player functions, one for each player.\"\"\"\n",
    "    if not player_fns:\n",
    "        player_fns = [players.human_player, players.human_player]\n",
    "    assert len(player_fns) == 2, \"There must be exactly two player functions.\"\n",
    "\n",
    "    last_action = -1\n",
    "    while not game.game_over():\n",
    "        visualize.plot_dots_and_boxes(game)\n",
    "        print(\"Available moves:\", game.valid_actions)\n",
    "        try:\n",
    "            move = player_fns[game.next_player](game, last_action)\n",
    "        except ValueError as e:\n",
    "            clear_output(wait=True)\n",
    "            print(\"Invalid input. Please enter a number.\")\n",
    "            continue\n",
    "        if move in game.valid_actions:\n",
    "            game = game.move(move)\n",
    "            last_action = move\n",
    "            clear_output(wait=True)\n",
    "        elif move == -1:\n",
    "            print(\"Exiting the game.\")\n",
    "            return game\n",
    "        else:\n",
    "            print(\"Invalid move. Try again.\")\n",
    "\n",
    "    visualize.plot_dots_and_boxes(game)\n",
    "    print(\"Game over!\")\n",
    "    print(\"Winner: \", game.get_winner())"
   ]
  },
  {
   "cell_type": "code",
   "execution_count": null,
   "metadata": {},
   "outputs": [],
   "source": [
    "mcts_player = players.MCTSPlayer(\n",
    "    policy_fn=players.random_policy,\n",
    "    max_simulations=100,\n",
    "    debug=True,\n",
    "    wait_for_input=True,\n",
    ")\n",
    "\n",
    "player_fns_human_mcts = [\n",
    "    mcts_player,\n",
    "    mcts_player,\n",
    "    # human_player,\n",
    "]\n",
    "\n",
    "game = dots_and_boxes.DotsAndBoxesGame(rows=2, cols=2)\n",
    "updated_game = play_interactive(game=game, player_fns=player_fns_human_mcts)"
   ]
  },
  {
   "cell_type": "code",
   "execution_count": null,
   "metadata": {},
   "outputs": [],
   "source": [
    "mcts_player = players.MCTSPlayer(\n",
    "    policy_fn=players.random_policy,\n",
    "    max_simulations=500,\n",
    "    debug=True,\n",
    "    wait_for_input=True,\n",
    ")\n",
    "\n",
    "player_fns = [\n",
    "    # players.human_player,\n",
    "    mcts_player,\n",
    "    mcts_player,\n",
    "    # human_player,\n",
    "]\n",
    "\n",
    "game = dots_and_boxes.DotsAndBoxesGame(rows=2, cols=3)\n",
    "updated_game = play_interactive(game=game, player_fns=player_fns)"
   ]
  },
  {
   "cell_type": "code",
   "execution_count": null,
   "metadata": {},
   "outputs": [],
   "source": []
  }
 ],
 "metadata": {
  "kernelspec": {
   "display_name": "Python 3",
   "language": "python",
   "name": "python3"
  },
  "language_info": {
   "codemirror_mode": {
    "name": "ipython",
    "version": 3
   },
   "file_extension": ".py",
   "mimetype": "text/x-python",
   "name": "python",
   "nbconvert_exporter": "python",
   "pygments_lexer": "ipython3",
   "version": "3.11.13"
  }
 },
 "nbformat": 4,
 "nbformat_minor": 4
}
