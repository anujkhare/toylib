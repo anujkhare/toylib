{
 "cells": [
  {
   "cell_type": "code",
   "execution_count": 37,
   "metadata": {},
   "outputs": [],
   "source": [
    "#@title imports\n",
    "from tensorboardX import SummaryWriter\n",
    "from torch.utils.data import DataLoader\n",
    "from torchvision import transforms\n",
    "from torchvision.datasets import MNIST\n",
    "from torchvision.utils import make_grid\n",
    "import functools\n",
    "import matplotlib.pyplot as plt\n",
    "import numpy as np\n",
    "import time\n",
    "import torch"
   ]
  },
  {
   "cell_type": "markdown",
   "metadata": {},
   "source": [
    "## Get the data"
   ]
  },
  {
   "cell_type": "code",
   "execution_count": 2,
   "metadata": {},
   "outputs": [],
   "source": [
    "#@title func: get_dataloader\n",
    "def get_dataloader(dataset, batch_size: int = 16, shuffle: bool = True) -> DataLoader:\n",
    "  return DataLoader(\n",
    "      dataset=dataset,\n",
    "      batch_size=batch_size,\n",
    "      shuffle=shuffle\n",
    "  )"
   ]
  },
  {
   "cell_type": "code",
   "execution_count": 3,
   "metadata": {},
   "outputs": [
    {
     "name": "stdout",
     "output_type": "stream",
     "text": [
      "Train samples: 60000 ; 1875 batches\n",
      "Test samples: 10000 ; 313 batches\n"
     ]
    }
   ],
   "source": [
    "#@title Load the datasets and create dataloaders\n",
    "batch_size = 32  #@param\n",
    "shuffle = True  #@param\n",
    "download = True  #@param\n",
    "\n",
    "image_transforms = transforms.Compose([\n",
    "  transforms.Pad(padding=2, fill=0, padding_mode=\"constant\"),\n",
    "  transforms.ToTensor(),\n",
    "  transforms.Normalize((0.5), (.5)),\n",
    "])\n",
    "\n",
    "dataset_train = MNIST(root=\"data/MNIST/train\", train=True, download=download, transform=image_transforms)\n",
    "dataset_test = MNIST(root=\"data/MNIST/test\", train=False, download=download, transform=image_transforms)\n",
    "\n",
    "dataloader_train = get_dataloader(dataset_train, batch_size=batch_size, shuffle=shuffle)\n",
    "dataloader_test = get_dataloader(dataset_test, batch_size=batch_size, shuffle=shuffle, )\n",
    "\n",
    "print(f\"Train samples: {len(dataset_train)} ; {len(dataloader_train)} batches\")\n",
    "print(f\"Test samples: {len(dataset_test)} ; {len(dataloader_test)} batches\")"
   ]
  },
  {
   "cell_type": "code",
   "execution_count": 4,
   "metadata": {},
   "outputs": [
    {
     "name": "stdout",
     "output_type": "stream",
     "text": [
      "tensor(-0.7892) tensor(0.5592)\n",
      "tensor(-1.) tensor(1.)\n"
     ]
    }
   ],
   "source": [
    "print(dataset_train[0][0].mean(), dataset_train[0][0].std())\n",
    "print(dataset_train[1][0].min(), dataset_train[1][0].max())"
   ]
  },
  {
   "cell_type": "code",
   "execution_count": 5,
   "metadata": {},
   "outputs": [],
   "source": [
    "def visualize_mnist_batch(\n",
    "        images,\n",
    "        labels,\n",
    "        predictions=None,\n",
    "        num_images=32,\n",
    "        figsize=(8, 8),\n",
    "        denormalize=True,\n",
    "        extra_label=None\n",
    ") -> None:\n",
    "    \"\"\"\n",
    "    Visualize a batch of MNIST images with their labels and optionally predictions.\n",
    "    \n",
    "    Args:\n",
    "        dataloader: PyTorch dataloader containing MNIST images\n",
    "        predictions: Optional predictions from a model\n",
    "        num_images: Number of images to display (default: 32)\n",
    "        figsize: Figure size (default: (8, 8)) - smaller than before\n",
    "        denormalize: Whether to denormalize images (default: True)\n",
    "        extra_label: Optional function that takes an image and returns a label string\n",
    "    \"\"\"\n",
    "    # Limit to num_images\n",
    "    images = images[:num_images]\n",
    "    labels = labels[:num_images]\n",
    "\n",
    "    # Denormalize images if needed\n",
    "    if denormalize:\n",
    "        images = images * 0.5 + 0.5\n",
    "    \n",
    "    # Create a grid of images\n",
    "    nrow = int(np.sqrt(num_images))\n",
    "    grid = make_grid(images, nrow=nrow, padding=1)  # Reduced padding\n",
    "    grid = grid.permute(1, 2, 0)  # Change from CxHxW to HxWxC for plotting\n",
    "    \n",
    "    # Plot images\n",
    "    plt.figure(figsize=figsize)  # Smaller figure size\n",
    "    plt.imshow(grid.squeeze(), cmap='gray')\n",
    "    plt.axis('off')\n",
    "    \n",
    "    # Add labels (and predictions if available)\n",
    "    _ = plt.gca()\n",
    "    w, h = grid.shape[:2]\n",
    "    ncol = int(np.ceil(num_images / nrow))\n",
    "    \n",
    "    # Calculate cell size\n",
    "    cell_h, cell_w = h / nrow, w / ncol\n",
    "    \n",
    "    # Add text with labels and predictions\n",
    "    for i in range(num_images):\n",
    "        row, col = i // nrow, i % nrow\n",
    "        y, x = row * cell_h + cell_h * 0.05, col * cell_w + cell_w * 0.05  # Position closer to top-left\n",
    "        \n",
    "        # Start with true label\n",
    "        label_text = f\"Target: {labels[i]}\"\n",
    "        \n",
    "        # Add prediction if available\n",
    "        if predictions is not None:\n",
    "            label_text += f\" P: {predictions[i]}\"\n",
    "            # Add color based on correctness\n",
    "            color = 'green' if predictions[i] == labels[i] else 'red'\n",
    "        else:\n",
    "            color = 'black'\n",
    "        \n",
    "        # Add extra label if provided\n",
    "        if extra_label is not None:\n",
    "            extra = extra_label(images[i])\n",
    "            label_text += f\"\\n{extra}\"\n",
    "        \n",
    "        # Use smaller font and more transparent background for cleaner look\n",
    "        plt.text(x, y, label_text, color=color, fontsize=8, \n",
    "                 bbox=dict(facecolor='white', alpha=0.6))\n",
    "    \n",
    "    plt.tight_layout()\n",
    "    plt.show()"
   ]
  },
  {
   "cell_type": "code",
   "execution_count": 6,
   "metadata": {},
   "outputs": [
    {
     "data": {
      "image/png": "[encoded data removed]",
      "text/plain": [
       "<Figure size 800x800 with 1 Axes>"
      ]
     },
     "metadata": {},
     "output_type": "display_data"
    }
   ],
   "source": [
    "images, labels = next(iter(dataloader_test))\n",
    "visualize_mnist_batch(images, labels)"
   ]
  },
  {
   "cell_type": "code",
   "execution_count": 9,
   "metadata": {},
   "outputs": [],
   "source": [
    "from toylib import nn\n",
    "\n",
    "import dataclasses\n",
    "import jax"
   ]
  },
  {
   "cell_type": "code",
   "execution_count": null,
   "metadata": {},
   "outputs": [],
   "source": [
    "@jax.tree_util.register_pytree_node_class\n",
    "@dataclasses.dataclass\n",
    "class Conv2D:\n",
    "    \"\"\"\n",
    "    A simple Conv2D layer with weight and bias parameters.\n",
    "    \"\"\"\n",
    "    key: jax.random.PRNGKey\n",
    "\n",
    "    kernel_size: list[int]\n",
    "    in_channels: int\n",
    "    out_channels: int\n",
    "    stride: list[int] = [1, 1]\n",
    "    padding: str = 'VALID'\n",
    "    bias: bool = True\n",
    "\n",
    "    def __post_init__(self):\n",
    "        keys = jax.random.split(self.key, 2)\n",
    "        self.kernel = jax.random.uniform(\n",
    "            keys[0],\n",
    "            (self.out_channels, self.in_channels, *self.kernel_size),\n",
    "            minval=-lim, maxval=lim\n",
    "        )\n",
    "        self.bias = (\n",
    "            jax.random.uniform(b_key, (out_features,), minval=-lim, maxval=lim)\n",
    "            if use_bias\n",
    "            else None\n",
    "        )\n",
    "\n",
    "\n",
    "    def __call__(self, x):\n",
    "        # Perform convolution operation here\n",
    "        pass"
   ]
  },
  {
   "cell_type": "code",
   "execution_count": 12,
   "metadata": {},
   "outputs": [
    {
     "data": {
      "text/plain": [
       "(1, 6, 6, 1)"
      ]
     },
     "execution_count": 12,
     "metadata": {},
     "output_type": "execute_result"
    }
   ],
   "source": [
    "a = np.ones((1, 6, 6, 1), dtype=np.float32)\n",
    "k = np.ones((3, 3, 1, 1))\n",
    "k[0, :] = 0\n",
    "k[-1, :] = 0\n",
    "k[:, 0] = 0\n",
    "k[:, -1] = 0\n",
    "strides = (1, 1)\n",
    "padding = \"SAME\"\n",
    "output = jax.lax.conv_general_dilated(a, k, strides, padding, dimension_numbers=(\"NHWC\", \"HWIO\", \"NHWC\"))\n",
    "output.shape"
   ]
  },
  {
   "cell_type": "code",
   "execution_count": null,
   "metadata": {},
   "outputs": [],
   "source": []
  }
 ],
 "metadata": {
  "kernelspec": {
   "display_name": "Python 3 (ipykernel)",
   "language": "python",
   "name": "python3"
  }
 },
 "nbformat": 4,
 "nbformat_minor": 2
}
