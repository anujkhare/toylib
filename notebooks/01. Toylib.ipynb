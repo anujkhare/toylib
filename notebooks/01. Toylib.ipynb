{
 "cells": [
  {
   "cell_type": "markdown",
   "metadata": {},
   "source": [
    "### toylib: A simple Neural Network library in jax!"
   ]
  },
  {
   "cell_type": "markdown",
   "id": "98e50c0b",
   "metadata": {},
   "source": [
    "Let's build yet another jax neural networks library. Our primary aim is to keep things (relatively) simple and transparent and progressively building up complexity. Why build a library at all? Reuse - as we build more complex networks, it is important to have building blocks we can rely upon. The goal is not to compete with Flax or Haiku — but to rebuild their core ideas from scratch.\n",
    "\n",
    "I have been greatly inspired by the design of [equinox](https://github.com/patrick-kidger/equinox). Quoting from their Github page:\n",
    "- neural networks (or more generally any model), with easy-to-use PyTorch-like syntax;\n",
    "- filtered APIs for transformations;\n",
    "- useful PyTree manipulation routines;\n",
    "- advanced features like runtime errors;\n",
    "- and best of all, Equinox isn't a framework: everything you write in Equinox is compatible with anything else in JAX or the ecosystem.\n",
    "\n",
    "This is very close to my ideal library for sticking as close as possible to the core jax functionality. Having said that, equinox is still a feature complete library that holds its own against the likes of Flax and PyTorch.  We aim for a much simpler version inspired by Equinox with no bells and whistles.\n",
    "\n",
    "Jax transforms work very well with [Pytrees](https://docs.jax.dev/en/latest/pytrees.html). It is a natural choice then to represent all our model parameters as a Pytrees. An MLP with a couple of linear layers could be represented something like:\n",
    "\n",
    "```python\n",
    "params = {\n",
    "    'layer1': {\n",
    "        'w': [0, 0, 1, 2],\n",
    "        'b': [1]\n",
    "    },\n",
    "    'layer2': {\n",
    "        'w': [-1, 2, 0, 3],\n",
    "        'b': [-1]\n",
    "    },\n",
    "}\n",
    "```\n",
    "\n",
    "This is simple and works natively with jax transforms, but this will quickly get out of hand as we develop more nested components.\n",
    "\n",
    "So, we try to come up with the `Module` abstraction. The Module is still a Pytree node, with:\n",
    "- trainable fields for parameters (weights, biases, etc.)\n",
    "- static fields for metadata (like hidden sizes, name scopes, etc.)\n",
    "- nested modules to enable composition\n",
    "- compatibility with jax.jit, jax.grad, etc."
   ]
  },
  {
   "cell_type": "markdown",
   "id": "7ca06839",
   "metadata": {},
   "source": [
    "## Setup"
   ]
  },
  {
   "cell_type": "code",
   "execution_count": null,
   "metadata": {},
   "outputs": [],
   "source": [
    "import jax\n",
    "import jaxtyping\n",
    "import math\n",
    "import numpy as np\n",
    "import typing"
   ]
  },
  {
   "cell_type": "markdown",
   "metadata": {},
   "source": [
    "We set up a simple linear regression in N variables. Analytic solutions exist for this problem, but we use this as the first toy example as we build up toylib!"
   ]
  },
  {
   "cell_type": "code",
   "execution_count": null,
   "metadata": {},
   "outputs": [
    {
     "name": "stdout",
     "output_type": "stream",
     "text": [
      "[5 2 7 0 8 1 3 6 4 1]\n"
     ]
    }
   ],
   "source": [
    "# Problem setup\n",
    "n = 120  # examples\n",
    "d = 10  # dimensions\n",
    "\n",
    "# Generate some dummy data\n",
    "np.random.seed(31)\n",
    "xs = np.random.normal(size=(n, d))\n",
    "weights_true = np.random.randint(0, 10, size=(d,))\n",
    "ys = np.dot(xs, weights_true) + np.random.normal(size=(n,))\n",
    "\n",
    "xs_train, xs_test = xs[:100], xs[100:]\n",
    "ys_train, ys_test = ys[:100], ys[100:]\n",
    "print(weights_true)"
   ]
  },
  {
   "cell_type": "markdown",
   "metadata": {},
   "source": [
    "Let's define a linear layer that does a single matrix multiplication and optionally adds a bias."
   ]
  },
  {
   "cell_type": "code",
   "execution_count": 11,
   "id": "94ed6a4f",
   "metadata": {},
   "outputs": [],
   "source": [
    "class Module:\n",
    "    pass\n",
    "\n",
    "class Linear(Module):\n",
    "    \"\"\"Defines a simple feedforward layer: which is a linear transformation. \"\"\"\n",
    "\n",
    "    # Trainable parameters\n",
    "    weights: jaxtyping.Array\n",
    "    bias: typing.Optional[jaxtyping.Array]\n",
    "\n",
    "    # Hyperparameters / metadata\n",
    "    in_features: int\n",
    "    out_features: int\n",
    "    use_bias: bool\n",
    "\n",
    "    def __init__(self, in_features: int, out_features: int, use_bias: bool = True, *, key: jaxtyping.PRNGKeyArray) -> None:\n",
    "        # Split the random key for weights and bias\n",
    "        w_key, b_key = jax.random.split(key, 2)\n",
    "        \n",
    "        # We initialize the weights with a uniform distribution\n",
    "        lim = 1 / math.sqrt(in_features)\n",
    "        self.weights = jax.random.uniform(w_key, (in_features, out_features), minval=-lim, maxval=lim)\n",
    "        if use_bias:\n",
    "            self.bias = jax.random.uniform(b_key, (out_features,), minval=-lim, maxval=lim)\n",
    "\n",
    "        self.in_features = in_features\n",
    "        self.out_features = out_features\n",
    "        self.use_bias = use_bias\n",
    "        self.key = key\n",
    "\n",
    "    def __call__(self, x: jaxtyping.Array) -> jaxtyping.Array:\n",
    "        x = jax.numpy.dot(x, self.weights)\n",
    "        if self.use_bias:\n",
    "            x = x + self.bias\n",
    "        return x"
   ]
  },
  {
   "cell_type": "markdown",
   "id": "b418d89e",
   "metadata": {},
   "source": [
    "Let's initialize a linear layer to match our data and do a simple forward pass."
   ]
  },
  {
   "cell_type": "code",
   "execution_count": 12,
   "id": "cccdef47",
   "metadata": {},
   "outputs": [],
   "source": [
    "model = Linear(d, 1, use_bias=True, key=jax.random.PRNGKey(0))"
   ]
  },
  {
   "cell_type": "code",
   "execution_count": 15,
   "id": "c228adfc",
   "metadata": {},
   "outputs": [
    {
     "name": "stdout",
     "output_type": "stream",
     "text": [
      "(100, 1)\n"
     ]
    }
   ],
   "source": [
    "y_pred = model(xs_train)\n",
    "print(y_pred.shape)"
   ]
  },
  {
   "cell_type": "markdown",
   "id": "4d041f5e",
   "metadata": {},
   "source": [
    "Looks good so far, let's define a loss function. We use the L2 loss (mean squared error) here."
   ]
  },
  {
   "cell_type": "code",
   "execution_count": 18,
   "metadata": {},
   "outputs": [
    {
     "name": "stdout",
     "output_type": "stream",
     "text": [
      "176.39902\n"
     ]
    }
   ],
   "source": [
    "def loss_function(model, xs, ys):\n",
    "    preds = jax.numpy.squeeze(model(xs))\n",
    "    return jax.numpy.mean((ys - preds) ** 2)  # L2 Loss\n",
    "\n",
    "print(loss_function(model, xs_train, ys_train))"
   ]
  },
  {
   "cell_type": "markdown",
   "id": "ebed8d4a",
   "metadata": {},
   "source": [
    "For training the model, we would utilize jax's `value_and_grad` function."
   ]
  },
  {
   "cell_type": "code",
   "execution_count": 19,
   "metadata": {},
   "outputs": [
    {
     "ename": "TypeError",
     "evalue": "Argument '<__main__.Linear object at 0x120f651c0>' of type <class '__main__.Linear'> is not a valid JAX type.",
     "output_type": "error",
     "traceback": [
      "\u001b[0;31m---------------------------------------------------------------------------\u001b[0m",
      "\u001b[0;31mTypeError\u001b[0m                                 Traceback (most recent call last)",
      "Cell \u001b[0;32mIn[19], line 1\u001b[0m\n\u001b[0;32m----> 1\u001b[0m \u001b[43mjax\u001b[49m\u001b[38;5;241;43m.\u001b[39;49m\u001b[43mvalue_and_grad\u001b[49m\u001b[43m(\u001b[49m\u001b[43mloss_function\u001b[49m\u001b[43m)\u001b[49m\u001b[43m(\u001b[49m\u001b[43mmodel\u001b[49m\u001b[43m,\u001b[49m\u001b[43m \u001b[49m\u001b[43mxs_train\u001b[49m\u001b[43m,\u001b[49m\u001b[43m \u001b[49m\u001b[43mys_train\u001b[49m\u001b[43m)\u001b[49m\n",
      "    \u001b[0;31m[... skipping hidden 3 frame]\u001b[0m\n",
      "File \u001b[0;32m/opt/homebrew/anaconda3/envs/toylib2/lib/python3.9/site-packages/jax/_src/dispatch.py:282\u001b[0m, in \u001b[0;36mcheck_arg\u001b[0;34m(arg)\u001b[0m\n\u001b[1;32m    280\u001b[0m \u001b[38;5;28;01mdef\u001b[39;00m \u001b[38;5;21mcheck_arg\u001b[39m(arg: Any):\n\u001b[1;32m    281\u001b[0m   \u001b[38;5;28;01mif\u001b[39;00m \u001b[38;5;129;01mnot\u001b[39;00m (\u001b[38;5;28misinstance\u001b[39m(arg, core\u001b[38;5;241m.\u001b[39mTracer) \u001b[38;5;129;01mor\u001b[39;00m core\u001b[38;5;241m.\u001b[39mvalid_jaxtype(arg)):\n\u001b[0;32m--> 282\u001b[0m     \u001b[38;5;28;01mraise\u001b[39;00m \u001b[38;5;167;01mTypeError\u001b[39;00m(\u001b[38;5;124mf\u001b[39m\u001b[38;5;124m\"\u001b[39m\u001b[38;5;124mArgument \u001b[39m\u001b[38;5;124m'\u001b[39m\u001b[38;5;132;01m{\u001b[39;00marg\u001b[38;5;132;01m}\u001b[39;00m\u001b[38;5;124m'\u001b[39m\u001b[38;5;124m of type \u001b[39m\u001b[38;5;132;01m{\u001b[39;00m\u001b[38;5;28mtype\u001b[39m(arg)\u001b[38;5;132;01m}\u001b[39;00m\u001b[38;5;124m is not a valid \u001b[39m\u001b[38;5;124m\"\u001b[39m\n\u001b[1;32m    283\u001b[0m                     \u001b[38;5;124m\"\u001b[39m\u001b[38;5;124mJAX type.\u001b[39m\u001b[38;5;124m\"\u001b[39m)\n",
      "\u001b[0;31mTypeError\u001b[0m: Argument '<__main__.Linear object at 0x120f651c0>' of type <class '__main__.Linear'> is not a valid JAX type."
     ]
    }
   ],
   "source": [
    "jax.value_and_grad(loss_function)(model, xs_train, ys_train)"
   ]
  },
  {
   "cell_type": "markdown",
   "metadata": {},
   "source": [
    "We encounter another jax specific error here. Jax transformations like jax.grad, jax.value_and_grad, jax.jit, etc., operate on JAX-compatible types: mostly jax.Arrays, Python containers like tuples/lists/dicts of JAX arrays, and custom types that are registered with JAX's PyTree machinery.\n",
    "\n",
    "We need to fix this.\n",
    "\n",
    "We follow the startegy defined in https://jax.readthedocs.io/en/latest/faq.html#strategy-3-making-customclass-a-pytree to define a custom Pytree node.\n",
    "\n",
    "Our `Module` class needs to distinguish between the `dynamic` elements (which need to interact with jax via `jit` & `grad`) vs the `static` elements:\n",
    "- Hyperparameters (like layer sizes) will be static\n",
    "- The actual weight arrays will be dynamic\n",
    "\n",
    "We make the following changes:\n",
    "- Use the `@register_pytree_node_class` decorator to tell Jax that Linear is also a Pytree\n",
    "- Add a `tree_flatten` method that separates the dynamic and static elements\n",
    "- Add a `tree_unflatten` method that constructs the object back given the dynamic and static elements\n"
   ]
  },
  {
   "cell_type": "code",
   "execution_count": null,
   "id": "d26a5cd2",
   "metadata": {},
   "outputs": [],
   "source": [
    "from jax.tree_util import register_pytree_node_class\n",
    "\n",
    "@register_pytree_node_class\n",
    "class Linear(Module):\n",
    "    \"\"\"Defines a simple feedforward layer: which is a linear transformation. \"\"\"\n",
    "\n",
    "    # Trainable parameters\n",
    "    weights: jaxtyping.Array\n",
    "    bias: typing.Optional[jaxtyping.Array]\n",
    "\n",
    "    # Hyperparameters / metadata\n",
    "    in_features: int\n",
    "    out_features: int\n",
    "    use_bias: bool\n",
    "\n",
    "    def __init__(self, in_features: int, out_features: int, use_bias: bool = True, *, key: jaxtyping.PRNGKeyArray) -> None:\n",
    "        # Split the random key for weights and bias\n",
    "        w_key, b_key = jax.random.split(key, 2)\n",
    "        \n",
    "        # We initialize the weights with a uniform distribution\n",
    "        lim = 1 / math.sqrt(in_features)\n",
    "        self.weights = jax.random.uniform(w_key, (in_features, out_features), minval=-lim, maxval=lim)\n",
    "        if use_bias:\n",
    "            self.bias = jax.random.uniform(b_key, (out_features,), minval=-lim, maxval=lim)\n",
    "\n",
    "        self.in_features = in_features\n",
    "        self.out_features = out_features\n",
    "        self.use_bias = use_bias\n",
    "        self.key = key\n",
    "\n",
    "    def __call__(self, x: jaxtyping.Array) -> jaxtyping.Array:\n",
    "        x = jax.numpy.dot(x, self.weights)\n",
    "        if self.use_bias:\n",
    "            x = x + self.bias\n",
    "        return x\n",
    "\n",
    "    def tree_flatten(self) -> tuple:\n",
    "        params = [self.weights, self.bias]\n",
    "        static = {\n",
    "            'in_features': self.in_features,\n",
    "            'out_features': self.out_features,\n",
    "            'use_bias': self.use_bias,\n",
    "            'key': self.key,\n",
    "        }\n",
    "        return params, static\n",
    "\n",
    "    @classmethod\n",
    "    def tree_unflatten(cls, static, dynamic) -> 'Linear':\n",
    "        weights, bias = dynamic\n",
    "        in_features = static['in_features']\n",
    "        out_features = static['out_features']\n",
    "        use_bias = static['use_bias']\n",
    "        obj = cls(in_features, out_features, use_bias, key=static['key'])\n",
    "        obj.weights = weights\n",
    "        obj.bias = bias\n",
    "        return obj"
   ]
  },
  {
   "cell_type": "code",
   "execution_count": 39,
   "id": "4de117bc",
   "metadata": {},
   "outputs": [
    {
     "name": "stdout",
     "output_type": "stream",
     "text": [
      "176.39902 <__main__.Linear object at 0x126ecb130>\n"
     ]
    }
   ],
   "source": [
    "model = Linear(d, 1, use_bias=True, key=jax.random.PRNGKey(0))\n",
    "value, grad = jax.value_and_grad(loss_function)(model, xs_train, ys_train)\n",
    "print(value, grad)"
   ]
  },
  {
   "cell_type": "markdown",
   "id": "89becbf3",
   "metadata": {},
   "source": [
    "Great! We are able to get past the error and do a full forward and backward pass on the model.\n",
    "\n",
    "The `grads` is now also an object of the same type `Linear`. This is because jax now treats `Linear` objects as pytree nodes. For each applicable child in the node, it will produce a grad.\n",
    "\n",
    "How do we apply this gradient to get an update? Since `Linear` is now a PyTree, both model and grads share the same structure. We can use [jax.tree_utils.tree_map](https://docs.jax.dev/en/latest/_autosummary/jax.tree_util.tree_map.html) to walk both trees and apply the update element-wise.\n",
    "\n",
    "Here, we simply use `theta_new` = `theta` - `learning_rate * grads`"
   ]
  },
  {
   "cell_type": "code",
   "execution_count": 48,
   "id": "a064d619",
   "metadata": {},
   "outputs": [],
   "source": [
    "def update(model, grad, learning_rate=0.01):\n",
    "    \"\"\"Update the model parameters using gradient descent.\"\"\"\n",
    "    return jax.tree_util.tree_map(lambda p, g: p - learning_rate * g, model, grad)"
   ]
  },
  {
   "cell_type": "code",
   "execution_count": 50,
   "id": "500f28ae",
   "metadata": {},
   "outputs": [],
   "source": [
    "updated = update(model, grad, learning_rate=0.01)"
   ]
  },
  {
   "cell_type": "code",
   "execution_count": 51,
   "id": "322686db",
   "metadata": {},
   "outputs": [
    {
     "name": "stdout",
     "output_type": "stream",
     "text": [
      "model\n",
      "(10, 1)\n",
      "(1,)\n",
      "grad\n",
      "(10, 1)\n",
      "(1,)\n",
      "updated\n",
      "(10, 1)\n",
      "(1,)\n"
     ]
    },
    {
     "data": {
      "text/plain": [
       "<__main__.Linear at 0x127474700>"
      ]
     },
     "execution_count": 51,
     "metadata": {},
     "output_type": "execute_result"
    }
   ],
   "source": [
    "print('model')\n",
    "jax.tree_util.tree_map(lambda x: print(x.shape), model)\n",
    "print('grad')\n",
    "jax.tree_util.tree_map(lambda x: print(x.shape), grad)\n",
    "print('updated')\n",
    "jax.tree_util.tree_map(lambda x: print(x.shape), updated)"
   ]
  },
  {
   "cell_type": "markdown",
   "id": "c4f53431",
   "metadata": {},
   "source": [
    "This was relatively straightforward for the `Linear` class. However, it is not scalable to define these serialize/deserialize methods for every module we define.\n",
    "\n",
    "To make this more generally useful, we move these methods to the base `Module` class.\n",
    "\n",
    "We make some simplifying assumptions here:\n",
    "- All jax or numpy arrays in the modules will be parameters\n",
    "- Everything else is a hyperparameter to be treated as aux data"
   ]
  },
  {
   "cell_type": "code",
   "execution_count": 74,
   "id": "a2504e12",
   "metadata": {},
   "outputs": [],
   "source": [
    "def _is_array(x: typing.Any) -> bool:\n",
    "    return isinstance(\n",
    "        x, (jax.Array, np.ndarray, np.generic)\n",
    "    ) or hasattr(x, \"__jax_array__\")\n",
    "\n",
    "\n",
    "def _is_random_key(x: str) -> bool:\n",
    "    return x == 'key'\n",
    "\n",
    "@register_pytree_node_class\n",
    "class Module:\n",
    "    def tree_flatten(self) -> tuple:\n",
    "        params = []\n",
    "        param_keys = []\n",
    "        aux_data = dict()\n",
    "\n",
    "        # Look through each attribute in the object\n",
    "        for k, v in self.__dict__.items():\n",
    "            if _is_array(v) and not _is_random_key(k):\n",
    "                # trainable leaf param!\n",
    "                params.append(v)\n",
    "                param_keys.append(k)\n",
    "            else:\n",
    "                aux_data[k] = v\n",
    "\n",
    "        aux_data['param_keys'] = param_keys\n",
    "        return params, aux_data\n",
    "\n",
    "    @classmethod\n",
    "    def tree_unflatten(cls, static, dynamic) -> 'Linear':\n",
    "        # Create a new empty object\n",
    "        obj = object.__new__(cls)\n",
    "\n",
    "        # overwrite all of the children using the values in the given pytree\n",
    "        for k, v in zip(static['param_keys'], dynamic):\n",
    "            obj.__setattr__(k, v)\n",
    "\n",
    "        for k, v in static.items():\n",
    "            obj.__setattr__(k, v)\n",
    "\n",
    "        return obj\n",
    "\n",
    "@register_pytree_node_class\n",
    "class Linear(Module):\n",
    "    \"\"\"Defines a simple feedforward layer: which is a linear transformation. \"\"\"\n",
    "\n",
    "    # Trainable parameters\n",
    "    weights: jaxtyping.Array\n",
    "    bias: typing.Optional[jaxtyping.Array]\n",
    "\n",
    "    # Hyperparameters / metadata\n",
    "    in_features: int\n",
    "    out_features: int\n",
    "    use_bias: bool\n",
    "\n",
    "    def __init__(self, in_features: int, out_features: int, use_bias: bool = True, *, key: jaxtyping.PRNGKeyArray) -> None:\n",
    "        # Split the random key for weights and bias\n",
    "        w_key, b_key = jax.random.split(key, 2)\n",
    "        \n",
    "        # We initialize the weights with a uniform distribution\n",
    "        lim = 1 / math.sqrt(in_features)\n",
    "        self.weights = jax.random.uniform(w_key, (in_features, out_features), minval=-lim, maxval=lim)\n",
    "        if use_bias:\n",
    "            self.bias = jax.random.uniform(b_key, (out_features,), minval=-lim, maxval=lim)\n",
    "\n",
    "        self.in_features = in_features\n",
    "        self.out_features = out_features\n",
    "        self.use_bias = use_bias\n",
    "        self.key = key\n",
    "\n",
    "    def __call__(self, x: jaxtyping.Array) -> jaxtyping.Array:\n",
    "        x = jax.numpy.dot(x, self.weights)\n",
    "        if self.use_bias:\n",
    "            x = x + self.bias\n",
    "        return x"
   ]
  },
  {
   "cell_type": "code",
   "execution_count": 75,
   "id": "65951003",
   "metadata": {},
   "outputs": [
    {
     "name": "stdout",
     "output_type": "stream",
     "text": [
      "176.39902 <__main__.Linear object at 0x127e189a0>\n"
     ]
    }
   ],
   "source": [
    "model = Linear(d, 1, use_bias=True, key=jax.random.PRNGKey(0))\n",
    "value, grad = jax.value_and_grad(loss_function)(model, xs_train, ys_train)\n",
    "print(value, grad)"
   ]
  },
  {
   "cell_type": "markdown",
   "id": "a161aa8c",
   "metadata": {},
   "source": [
    "That works!\n",
    "\n",
    "The serializing function `tree_flatten` identifies all trainable parameters - which are assumed to be jax arrays, except for the random keys - and sets them as the \"dynamic\" elements in the pytree. Everything else, including the names of these parameters are added to the `aux_data` dict.\n",
    "All jax transforms will serialize our class using this function, operate on the dynamic elements, and then reconstruct the class using the `tree_unflatten` method.\n",
    "\n",
    "There is still one major feature that we haven't addressed yet: nested modules. \n",
    "\n",
    "Let's look at a simple MLP that uses two linear layers."
   ]
  },
  {
   "cell_type": "code",
   "execution_count": 79,
   "id": "d3e09055",
   "metadata": {},
   "outputs": [],
   "source": [
    "@register_pytree_node_class\n",
    "class MLP(Module):\n",
    "    output_layer: Linear\n",
    "    layers: typing.List[Module]\n",
    "\n",
    "    in_features: int\n",
    "    hidden_dims: list[int]\n",
    "    out_features: int\n",
    "\n",
    "    def __init__(self, in_features: int, hidden_dims: list[int], out_features: int, *, key: jaxtyping.PRNGKeyArray) -> None:\n",
    "        # Split the random key for weights and bias\n",
    "        keys = jax.random.split(key, len(hidden_dims) + 1)\n",
    "\n",
    "        # Create the layers\n",
    "        layers = []\n",
    "        input_dim = in_features\n",
    "        for i, hidden_dim in enumerate(hidden_dims):\n",
    "            layer = Linear(input_dim, hidden_dim, key=keys[i])\n",
    "            layers.append(layer)\n",
    "            input_dim = hidden_dim\n",
    "\n",
    "        # Create the output layer\n",
    "        output_layer = Linear(input_dim, out_features, key=keys[-1])\n",
    "\n",
    "        self.layers = layers\n",
    "        self.output_layer = output_layer\n",
    "\n",
    "    def __call__(self, x: jaxtyping.Array) -> jaxtyping.Array:\n",
    "        for layer in self.layers:\n",
    "            x = layer(x)\n",
    "            x = jax.nn.relu(x)\n",
    "        return self.output_layer(x)"
   ]
  },
  {
   "cell_type": "code",
   "execution_count": null,
   "id": "13f1b84f",
   "metadata": {},
   "outputs": [
    {
     "data": {
      "text/plain": [
       "(Array(180.0803, dtype=float32), <__main__.MLP at 0x127f0e160>)"
      ]
     },
     "execution_count": 77,
     "metadata": {},
     "output_type": "execute_result"
    }
   ],
   "source": [
    "model = MLP(d, [32, 32], 1, key=jax.random.PRNGKey(0))\n",
    "print(jax.value_and_grad(loss_function)(model, xs_train, ys_train))\n",
    "print(jax.tree_util.tree_flatten(model))"
   ]
  },
  {
   "cell_type": "markdown",
   "id": "3f71181a",
   "metadata": {},
   "source": [
    "At first glance, this looks okay since the forward pass works fine. However, a closer look at the output of `tree_flatten` reveals that the nested modules are not included in the dynamic elements at all and hence would be ignored by the JAX transforms."
   ]
  },
  {
   "cell_type": "code",
   "execution_count": null,
   "id": "72e36f92",
   "metadata": {},
   "outputs": [
    {
     "data": {
      "text/plain": [
       "([],\n",
       " PyTreeDef(CustomNode(MLP[{'layers': [<__main__.Linear object at 0x12780ff40>, <__main__.Linear object at 0x127dff970>], 'output_layer': <__main__.Linear object at 0x1279f44f0>, 'param_keys': []}], [])))"
      ]
     },
     "execution_count": 78,
     "metadata": {},
     "output_type": "execute_result"
    }
   ],
   "source": []
  },
  {
   "cell_type": "markdown",
   "id": "c4c75ecd",
   "metadata": {},
   "source": [
    "This fails presently because we never serialize any nested modules."
   ]
  },
  {
   "cell_type": "code",
   "execution_count": 105,
   "id": "30b84c3a",
   "metadata": {},
   "outputs": [],
   "source": [
    "def _is_supported_container(x: typing.Any) -> bool:\n",
    "    return isinstance(x, (list, tuple))\n",
    "\n",
    "@register_pytree_node_class\n",
    "class Module:\n",
    "    def tree_flatten(self) -> tuple:\n",
    "        params = []\n",
    "        param_keys = []\n",
    "        aux_data = dict()\n",
    "\n",
    "        # Look through each attribute in the object\n",
    "        for k, v in self.__dict__.items():\n",
    "            if (\n",
    "                (_is_array(v) and not _is_random_key(k))\n",
    "                or isinstance(v, Module)\n",
    "                or (_is_supported_container(v) and all(isinstance(elem, Module) for elem in v))\n",
    "            ):\n",
    "                # trainable leaf param!\n",
    "                params.append(v)\n",
    "                param_keys.append(k)\n",
    "            else:\n",
    "                aux_data[k] = v\n",
    "\n",
    "        aux_data['param_keys'] = param_keys\n",
    "        return params, aux_data\n",
    "\n",
    "    @classmethod\n",
    "    def tree_unflatten(cls, static, dynamic) -> 'Linear':\n",
    "        # Create a new empty object\n",
    "        obj = object.__new__(cls)\n",
    "\n",
    "        # overwrite all of the children using the values in the given pytree\n",
    "        for k, v in zip(static['param_keys'], dynamic):\n",
    "            obj.__setattr__(k, v)\n",
    "\n",
    "        for k, v in static.items():\n",
    "            obj.__setattr__(k, v)\n",
    "\n",
    "        return obj\n",
    "\n",
    "@register_pytree_node_class\n",
    "class Linear(Module):\n",
    "    \"\"\"Defines a simple feedforward layer: which is a linear transformation. \"\"\"\n",
    "\n",
    "    # Trainable parameters\n",
    "    weights: jaxtyping.Array\n",
    "    bias: typing.Optional[jaxtyping.Array]\n",
    "\n",
    "    # Hyperparameters / metadata\n",
    "    in_features: int\n",
    "    out_features: int\n",
    "    use_bias: bool\n",
    "\n",
    "    def __init__(self, in_features: int, out_features: int, use_bias: bool = True, *, key: jaxtyping.PRNGKeyArray) -> None:\n",
    "        # Split the random key for weights and bias\n",
    "        w_key, b_key = jax.random.split(key, 2)\n",
    "        \n",
    "        # We initialize the weights with a uniform distribution\n",
    "        lim = 1 / math.sqrt(in_features)\n",
    "        self.weights = jax.random.uniform(w_key, (in_features, out_features), minval=-lim, maxval=lim)\n",
    "        if use_bias:\n",
    "            self.bias = jax.random.uniform(b_key, (out_features,), minval=-lim, maxval=lim)\n",
    "\n",
    "        self.in_features = in_features\n",
    "        self.out_features = out_features\n",
    "        self.use_bias = use_bias\n",
    "        self.key = key\n",
    "\n",
    "    def __call__(self, x: jaxtyping.Array) -> jaxtyping.Array:\n",
    "        x = jax.numpy.dot(x, self.weights)\n",
    "        if self.use_bias:\n",
    "            x = x + self.bias\n",
    "        return x\n",
    "\n",
    "@register_pytree_node_class\n",
    "class MLP(Module):\n",
    "    output_layer: Linear\n",
    "    layers: typing.List[Module]\n",
    "\n",
    "    in_features: int\n",
    "    hidden_dims: list[int]\n",
    "    out_features: int\n",
    "\n",
    "    def __init__(self, in_features: int, hidden_dims: list[int], out_features: int, *, key: jaxtyping.PRNGKeyArray) -> None:\n",
    "        # Split the random key for weights and bias\n",
    "        keys = jax.random.split(key, len(hidden_dims) + 1)\n",
    "\n",
    "        # Create the layers\n",
    "        layers = []\n",
    "        input_dim = in_features\n",
    "        for i, hidden_dim in enumerate(hidden_dims):\n",
    "            layer = Linear(input_dim, hidden_dim, key=keys[i])\n",
    "            layers.append(layer)\n",
    "            input_dim = hidden_dim\n",
    "\n",
    "        # Create the output layer\n",
    "        output_layer = Linear(input_dim, out_features, key=keys[-1])\n",
    "\n",
    "        self.layers = layers\n",
    "        self.output_layer = output_layer\n",
    "\n",
    "    def __call__(self, x: jaxtyping.Array) -> jaxtyping.Array:\n",
    "        for layer in self.layers:\n",
    "            x = layer(x)\n",
    "            x = jax.nn.relu(x)\n",
    "        return self.output_layer(x)"
   ]
  },
  {
   "cell_type": "code",
   "execution_count": 106,
   "id": "5e592185",
   "metadata": {},
   "outputs": [
    {
     "name": "stdout",
     "output_type": "stream",
     "text": [
      "(Array(180.42581, dtype=float32), <__main__.MLP object at 0x134c2f370>)\n",
      "(10, 32)\n",
      "(32,)\n",
      "(32, 64)\n",
      "(64,)\n",
      "(64, 1)\n",
      "(1,)\n"
     ]
    },
    {
     "data": {
      "text/plain": [
       "<__main__.MLP at 0x127f92040>"
      ]
     },
     "execution_count": 106,
     "metadata": {},
     "output_type": "execute_result"
    }
   ],
   "source": [
    "model = MLP(d, [32, 64], 1, key=jax.random.PRNGKey(0))\n",
    "print(jax.value_and_grad(loss_function)(model, xs_train, ys_train))\n",
    "jax.tree_util.tree_map(lambda x: print(x.shape), model)"
   ]
  },
  {
   "cell_type": "code",
   "execution_count": 103,
   "id": "dbb39a1c",
   "metadata": {},
   "outputs": [
    {
     "name": "stdout",
     "output_type": "stream",
     "text": [
      "([Array([[-0.30011278,  0.08650653,  0.11695176, -0.03774818,  0.01742158,\n",
      "        -0.20350677, -0.24137181,  0.18778194, -0.1154352 , -0.21272187,\n",
      "        -0.30014053,  0.1416863 ,  0.0767136 , -0.18774138,  0.07431319,\n",
      "        -0.11021918, -0.07871812,  0.21722677, -0.25021642,  0.31244513,\n",
      "        -0.13980477, -0.25568148,  0.03822181, -0.28423324, -0.12439781,\n",
      "         0.2814833 ,  0.3123338 , -0.1049206 , -0.00377048,  0.01837524,\n",
      "        -0.2959458 , -0.18386649],\n",
      "       [ 0.05591903, -0.31266296, -0.2648012 ,  0.12207565, -0.08195654,\n",
      "         0.21220149, -0.20487277,  0.18760802,  0.14242797,  0.05909781,\n",
      "        -0.03775187, -0.12218475, -0.03007768, -0.01048301, -0.2766646 ,\n",
      "        -0.2571914 ,  0.30314302,  0.08406472,  0.19204748, -0.05280146,\n",
      "         0.1403746 ,  0.28947628, -0.2619142 ,  0.11703017, -0.219401  ,\n",
      "        -0.30234927, -0.02810657, -0.26485577, -0.13100155, -0.11365393,\n",
      "        -0.07189378,  0.02118052],\n",
      "       [-0.07320972,  0.25864735,  0.21216568, -0.15350795,  0.20395929,\n",
      "         0.11626989, -0.24008422, -0.27746463, -0.17020853, -0.30744475,\n",
      "        -0.14190029,  0.25964496, -0.15916903, -0.2969149 , -0.17038336,\n",
      "         0.223047  ,  0.06014549,  0.08184503,  0.13507676,  0.15848324,\n",
      "        -0.2542476 , -0.04468425, -0.0762779 ,  0.25387034,  0.02465335,\n",
      "         0.08629964, -0.11779264,  0.28584653, -0.05723368, -0.14067203,\n",
      "        -0.25591746,  0.08685131],\n",
      "       [-0.00257525,  0.18310297, -0.2341791 , -0.23428917, -0.26703626,\n",
      "         0.23133235,  0.27789196,  0.29877722,  0.03103784, -0.16642198,\n",
      "         0.13017537, -0.1365309 , -0.1593686 , -0.10030834,  0.24018133,\n",
      "         0.20421548, -0.18572609, -0.1891582 ,  0.19513963,  0.0383407 ,\n",
      "        -0.09117375, -0.06791543,  0.05714788, -0.05616602, -0.24969386,\n",
      "        -0.24883068,  0.15698726, -0.04173142,  0.13594976, -0.08781244,\n",
      "        -0.24402924, -0.28039634],\n",
      "       [ 0.06015545,  0.09234878,  0.11622232, -0.13995841,  0.07483838,\n",
      "        -0.2312157 ,  0.01702952, -0.28776926,  0.201921  , -0.13462123,\n",
      "        -0.15775591, -0.0048478 ,  0.19145268,  0.04610785, -0.0602846 ,\n",
      "        -0.01021536, -0.14959422, -0.09266355,  0.13516061, -0.08478647,\n",
      "        -0.14886606, -0.04313527,  0.22157478,  0.01466304, -0.27295285,\n",
      "        -0.06808929,  0.13625391, -0.23163135, -0.21387337, -0.12023783,\n",
      "         0.05928283,  0.28150448],\n",
      "       [-0.22214356,  0.01770981,  0.11156715,  0.19982351, -0.02400194,\n",
      "        -0.20143387, -0.30806345,  0.27288237,  0.27830142,  0.25036442,\n",
      "        -0.038827  ,  0.22518791,  0.3146086 ,  0.31001157, -0.09904472,\n",
      "         0.17143543, -0.24092562, -0.19662927,  0.06110059,  0.04248899,\n",
      "        -0.16504143, -0.0201008 , -0.14984731,  0.20080794, -0.26121995,\n",
      "         0.06098554,  0.14366089,  0.21408086, -0.16757959, -0.04738956,\n",
      "         0.22764042,  0.15035495],\n",
      "       [-0.26927203, -0.00368167, -0.24825518, -0.294892  ,  0.31269357,\n",
      "        -0.19357647, -0.31369096, -0.17198528,  0.287361  ,  0.11721639,\n",
      "        -0.2208022 , -0.25127193, -0.10084884, -0.21160634,  0.27974924,\n",
      "        -0.04404204,  0.10844786,  0.0604344 ,  0.19388959, -0.00445755,\n",
      "         0.3022699 ,  0.25455695, -0.28175813, -0.25958812,  0.11105718,\n",
      "         0.00381429,  0.28735006,  0.06171069,  0.2922642 , -0.30340156,\n",
      "         0.15744543, -0.25156826],\n",
      "       [-0.21498355, -0.09670402,  0.09527718,  0.13699737,  0.30453655,\n",
      "         0.09257006, -0.02243961, -0.06576963, -0.26366258, -0.0507698 ,\n",
      "         0.09063634, -0.1667164 ,  0.13418289, -0.29978156,  0.03331581,\n",
      "        -0.05454315, -0.08681391, -0.31572887, -0.19434807,  0.13150313,\n",
      "         0.300227  ,  0.1882923 , -0.07475576,  0.15213358, -0.09333947,\n",
      "        -0.29458138, -0.21737847,  0.28280059, -0.30965096, -0.18470073,\n",
      "        -0.00052957, -0.00146823],\n",
      "       [-0.14670925, -0.0039687 ,  0.15363477, -0.17092976,  0.22565076,\n",
      "        -0.1606932 ,  0.27554238,  0.14950208,  0.00605486,  0.14668429,\n",
      "        -0.3097751 ,  0.2639028 , -0.28828678, -0.05791095,  0.16686681,\n",
      "         0.17202659, -0.23904325, -0.06408267,  0.15966815, -0.16653237,\n",
      "         0.08002569, -0.2778045 ,  0.2252428 ,  0.0586076 , -0.00260247,\n",
      "        -0.10532607,  0.17057155,  0.13852675,  0.11570542,  0.29443467,\n",
      "        -0.29967293,  0.27239344],\n",
      "       [ 0.05378393,  0.22294703, -0.18095528,  0.14089686,  0.04797108,\n",
      "        -0.1295594 , -0.00220808, -0.16151267, -0.19449705,  0.07196186,\n",
      "        -0.24179085,  0.22589481,  0.2373845 ,  0.2519756 , -0.23457997,\n",
      "        -0.26699284, -0.21486118, -0.13292946,  0.2792303 ,  0.07660888,\n",
      "        -0.23896573, -0.05123265,  0.08944194, -0.03018618, -0.06418484,\n",
      "         0.3078923 , -0.11882623,  0.22057384, -0.01141979, -0.19942996,\n",
      "        -0.07580487, -0.13297296]], dtype=float32), Array([ 0.20531292, -0.01727388, -0.08084606,  0.2233409 , -0.06005434,\n",
      "        0.29213226,  0.22101656, -0.23791112,  0.16249935,  0.11893079,\n",
      "        0.03793282,  0.01531754, -0.08096781,  0.08593933, -0.04844312,\n",
      "       -0.24818054, -0.07555878, -0.02264122,  0.3075512 ,  0.1029776 ,\n",
      "       -0.12959076,  0.2975851 , -0.03030666,  0.2140213 , -0.20167272,\n",
      "       -0.3057909 ,  0.1544577 , -0.10349149, -0.26458156,  0.28783092,\n",
      "        0.09389587, -0.09170891], dtype=float32), Array([[-0.13007163,  0.14325629,  0.01905113, ...,  0.06531042,\n",
      "         0.01804361, -0.15789726],\n",
      "       [-0.01632444, -0.1234721 ,  0.04412977, ..., -0.09453858,\n",
      "        -0.06943899,  0.04234055],\n",
      "       [ 0.17630064, -0.15851763,  0.09968227, ..., -0.02486289,\n",
      "        -0.02135307, -0.13422641],\n",
      "       ...,\n",
      "       [ 0.07378914,  0.03977908, -0.02850627, ...,  0.14069006,\n",
      "        -0.08846333, -0.09299921],\n",
      "       [-0.03462844, -0.09200261, -0.13827276, ..., -0.00465634,\n",
      "        -0.01174595,  0.09768282],\n",
      "       [-0.08927386, -0.07975836, -0.13624044, ..., -0.15901509,\n",
      "        -0.12522624,  0.11846922]], dtype=float32), Array([-0.135912  ,  0.11441305,  0.02316281, -0.12441231,  0.16635512,\n",
      "       -0.05676093, -0.085922  , -0.05434221, -0.11867861, -0.07503955,\n",
      "       -0.01061038,  0.05386717,  0.093401  ,  0.140989  ,  0.01574197,\n",
      "        0.12214953,  0.03134149,  0.08553825,  0.07764331, -0.0388049 ,\n",
      "       -0.01444419,  0.16104618, -0.0289779 , -0.07783844, -0.11648128,\n",
      "        0.00375495, -0.13912894,  0.02431877,  0.06519742, -0.10321784,\n",
      "       -0.09336934, -0.0121436 ], dtype=float32), Array([[ 0.15722215],\n",
      "       [ 0.07151115],\n",
      "       [-0.04077493],\n",
      "       [-0.07208046],\n",
      "       [-0.09995365],\n",
      "       [-0.12310825],\n",
      "       [-0.01078483],\n",
      "       [ 0.11520318],\n",
      "       [ 0.1356439 ],\n",
      "       [-0.1119808 ],\n",
      "       [-0.09906178],\n",
      "       [ 0.09943352],\n",
      "       [-0.16626383],\n",
      "       [ 0.15313113],\n",
      "       [-0.16814443],\n",
      "       [ 0.1270912 ],\n",
      "       [-0.14899416],\n",
      "       [ 0.12914856],\n",
      "       [ 0.17102407],\n",
      "       [ 0.09281242],\n",
      "       [ 0.09626711],\n",
      "       [ 0.03700717],\n",
      "       [-0.15515903],\n",
      "       [ 0.09547918],\n",
      "       [ 0.17306022],\n",
      "       [ 0.00259663],\n",
      "       [ 0.0128526 ],\n",
      "       [-0.17360404],\n",
      "       [ 0.00233713],\n",
      "       [-0.02502785],\n",
      "       [ 0.01659886],\n",
      "       [-0.05202986]], dtype=float32), Array([-0.04435003], dtype=float32)], PyTreeDef(CustomNode(MLP[{'param_keys': ['layers', 'output_layer']}], [[CustomNode(Linear[{'in_features': 10, 'out_features': 32, 'use_bias': True, 'key': Array([2467461003,  428148500], dtype=uint32), 'param_keys': ['weights', 'bias']}], [*, *]), CustomNode(Linear[{'in_features': 32, 'out_features': 32, 'use_bias': True, 'key': Array([3186719485, 3840466878], dtype=uint32), 'param_keys': ['weights', 'bias']}], [*, *])], CustomNode(Linear[{'in_features': 32, 'out_features': 1, 'use_bias': True, 'key': Array([2562233961, 1946702221], dtype=uint32), 'param_keys': ['weights', 'bias']}], [*, *])])))\n"
     ]
    }
   ],
   "source": [
    "print(jax.tree_util.tree_flatten(model))"
   ]
  },
  {
   "cell_type": "markdown",
   "id": "a0fd04a9",
   "metadata": {},
   "source": [
    "## Train a model!"
   ]
  },
  {
   "cell_type": "code",
   "execution_count": 81,
   "metadata": {},
   "outputs": [
    {
     "name": "stdout",
     "output_type": "stream",
     "text": [
      "183.51994\n"
     ]
    },
    {
     "ename": "AttributeError",
     "evalue": "'MLP' object has no attribute 'weights'",
     "output_type": "error",
     "traceback": [
      "\u001b[0;31m---------------------------------------------------------------------------\u001b[0m",
      "\u001b[0;31mAttributeError\u001b[0m                            Traceback (most recent call last)",
      "Cell \u001b[0;32mIn[81], line 15\u001b[0m\n\u001b[1;32m     13\u001b[0m loss, grads \u001b[38;5;241m=\u001b[39m jax\u001b[38;5;241m.\u001b[39mvalue_and_grad(loss_function)(model, xs, ys)\n\u001b[1;32m     14\u001b[0m \u001b[38;5;28mprint\u001b[39m(loss)\n\u001b[0;32m---> 15\u001b[0m \u001b[38;5;28mprint\u001b[39m(\u001b[43mmodel\u001b[49m\u001b[38;5;241;43m.\u001b[39;49m\u001b[43mweights\u001b[49m)\n\u001b[1;32m     16\u001b[0m \u001b[38;5;28mprint\u001b[39m(grads\u001b[38;5;241m.\u001b[39mweights)\n\u001b[1;32m     17\u001b[0m model \u001b[38;5;241m=\u001b[39m apply_update(model, grads, learning_rate)\n",
      "\u001b[0;31mAttributeError\u001b[0m: 'MLP' object has no attribute 'weights'"
     ]
    }
   ],
   "source": [
    "## training loop\n",
    "# initial estimates\n",
    "\n",
    "# hyperparmeters\n",
    "max_steps = 100\n",
    "learning_rate = 0.1\n",
    "\n",
    "step = 0\n",
    "\n",
    "# until we reach max_steps or the loss doesn't change by <eps>\n",
    "while step < max_steps:\n",
    "    # compute model value and grad\n",
    "    loss, grads = jax.value_and_grad(loss_function)(model, xs, ys)\n",
    "    print(loss)\n",
    "    print(model.weights)\n",
    "    print(grads.weights)\n",
    "    model = apply_update(model, grads, learning_rate)\n",
    "    print(model.weights)\n",
    "\n",
    "    step += 1\n",
    "    # break"
   ]
  },
  {
   "cell_type": "code",
   "execution_count": 82,
   "metadata": {},
   "outputs": [
    {
     "data": {
      "text/plain": [
       "array([5, 2, 7, 0, 8, 1, 3, 6, 4, 1])"
      ]
     },
     "execution_count": 82,
     "metadata": {},
     "output_type": "execute_result"
    }
   ],
   "source": [
    "weights_true"
   ]
  },
  {
   "cell_type": "code",
   "execution_count": 83,
   "metadata": {},
   "outputs": [
    {
     "ename": "AttributeError",
     "evalue": "'MLP' object has no attribute 'weights'",
     "output_type": "error",
     "traceback": [
      "\u001b[0;31m---------------------------------------------------------------------------\u001b[0m",
      "\u001b[0;31mAttributeError\u001b[0m                            Traceback (most recent call last)",
      "Cell \u001b[0;32mIn[83], line 1\u001b[0m\n\u001b[0;32m----> 1\u001b[0m \u001b[43mmodel\u001b[49m\u001b[38;5;241;43m.\u001b[39;49m\u001b[43mweights\u001b[49m\n",
      "\u001b[0;31mAttributeError\u001b[0m: 'MLP' object has no attribute 'weights'"
     ]
    }
   ],
   "source": [
    "model.weights"
   ]
  },
  {
   "cell_type": "code",
   "execution_count": null,
   "id": "5d4187c0",
   "metadata": {},
   "outputs": [],
   "source": []
  }
 ],
 "metadata": {
  "kernelspec": {
   "display_name": "Python 3 (ipykernel)",
   "language": "python",
   "name": "python3"
  },
  "language_info": {
   "codemirror_mode": {
    "name": "ipython",
    "version": 3
   },
   "file_extension": ".py",
   "mimetype": "text/x-python",
   "name": "python",
   "nbconvert_exporter": "python",
   "pygments_lexer": "ipython3",
   "version": "3.9.21"
  }
 },
 "nbformat": 4,
 "nbformat_minor": 5
}
