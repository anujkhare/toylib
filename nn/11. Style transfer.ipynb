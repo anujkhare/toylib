{
 "cells": [
  {
   "cell_type": "markdown",
   "id": "1120f0ab-20ef-4080-a93e-64f454709910",
   "metadata": {},
   "source": [
    "# \n",
    "https://github.com/gordicaleksa/pytorch-neural-style-transfer-johnson\n",
    "\n"
   ]
  },
  {
   "cell_type": "code",
   "execution_count": null,
   "id": "bf55d928-6baf-43ac-bc6e-e1447ebf07fc",
   "metadata": {},
   "outputs": [],
   "source": []
  }
 ],
 "metadata": {
  "kernelspec": {
   "display_name": "Python 3 (ipykernel)",
   "language": "python",
   "name": "python3"
  },
  "language_info": {
   "codemirror_mode": {
    "name": "ipython",
    "version": 3
   },
   "file_extension": ".py",
   "mimetype": "text/x-python",
   "name": "python",
   "nbconvert_exporter": "python",
   "pygments_lexer": "ipython3",
   "version": "3.10.13"
  }
 },
 "nbformat": 4,
 "nbformat_minor": 5
}
