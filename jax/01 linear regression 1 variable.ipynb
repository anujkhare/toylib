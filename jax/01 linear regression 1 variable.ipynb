{
 "cells": [
  {
   "cell_type": "markdown",
   "id": "dc792d2a-4169-45c2-a7cb-605617205403",
   "metadata": {},
   "source": [
    "### linear regression in 1 variable\n",
    "https://jax.readthedocs.io/en/latest/jax-101/01-jax-basics.html"
   ]
  },
  {
   "cell_type": "code",
   "execution_count": 8,
   "id": "a0510af7-864c-4016-8f4e-aa434b2a2532",
   "metadata": {},
   "outputs": [],
   "source": [
    "import jax\n",
    "import jax.numpy as jnp\n",
    "import numpy as np\n",
    "import matplotlib.pyplot as plt"
   ]
  },
  {
   "cell_type": "code",
   "execution_count": 9,
   "id": "da4c6f7c-14bb-4012-b873-343b1e97104f",
   "metadata": {},
   "outputs": [],
   "source": [
    "## dummy data\n",
    "size = 100\n",
    "xs = np.stack([np.ones(size,), np.random.normal(size=(size,))]).T\n",
    "noise = np.random.normal(scale=0.3, size=(size,))\n",
    "# intercept, slope\n",
    "theta = np.array([3, 10]).astype(np.float32)  #@param\n",
    "\n",
    "ys = np.dot(xs, theta) + noise"
   ]
  },
  {
   "cell_type": "code",
   "execution_count": 10,
   "id": "d6deba0c-8b45-437c-9448-a8d2c5c4016a",
   "metadata": {},
   "outputs": [
    {
     "data": {
      "text/plain": [
       "<matplotlib.collections.PathCollection at 0x7f9866c58e50>"
      ]
     },
     "execution_count": 10,
     "metadata": {},
     "output_type": "execute_result"
    },
    {
     "data": {
      "image/png": "[encoded data removed]",
      "text/plain": [
       "<Figure size 640x480 with 1 Axes>"
      ]
     },
     "metadata": {},
     "output_type": "display_data"
    }
   ],
   "source": [
    "plt.scatter(xs[:, 1], ys)"
   ]
  },
  {
   "cell_type": "code",
   "execution_count": 11,
   "id": "082dc03a-a26e-411c-846c-ecb5c7a6733a",
   "metadata": {},
   "outputs": [],
   "source": [
    "params = {\n",
    "    'theta': theta\n",
    "}\n",
    "data = {'x': xs, 'y': ys}"
   ]
  },
  {
   "cell_type": "code",
   "execution_count": 12,
   "id": "d09a33be-80bc-4de1-9f33-c3abe64bb337",
   "metadata": {},
   "outputs": [],
   "source": [
    "## model function\n",
    "def model(params, x):\n",
    "    y = jnp.dot(x, params['theta'])\n",
    "    return y"
   ]
  },
  {
   "cell_type": "code",
   "execution_count": 13,
   "id": "61a8331a-3e73-4a31-9dad-63c7f48c3e5e",
   "metadata": {},
   "outputs": [],
   "source": [
    "## loss function\n",
    "def sum_squared_error(params, x, y):\n",
    "    preds = model(params, x)\n",
    "    return jnp.mean((y - preds) ** 2), preds\n",
    "\n",
    "\n",
    "def update(params, grads, lr=0.1):\n",
    "    return {\n",
    "        'theta': params['theta'] - lr * grads['theta']\n",
    "    }"
   ]
  },
  {
   "cell_type": "code",
   "execution_count": 21,
   "id": "20fa3c3b-5586-47ed-81cb-7a2b46d80aa8",
   "metadata": {},
   "outputs": [
    {
     "name": "stdout",
     "output_type": "stream",
     "text": [
      "111.311844 {'theta': Array([0., 0.], dtype=float32)}\n",
      "{'theta': Array([ -5.017593, -20.700048], dtype=float32)}\n",
      "{'theta': Array([0.5017593, 2.070005 ], dtype=float32)}\n",
      "70.58372 {'theta': Array([0.5017593, 2.070005 ], dtype=float32)}\n",
      "{'theta': Array([ -4.215905, -16.412554], dtype=float32)}\n",
      "{'theta': Array([0.92334986, 3.7112603 ], dtype=float32)}\n",
      "44.800926 {'theta': Array([0.92334986, 3.7112603 ], dtype=float32)}\n",
      "{'theta': Array([ -3.5327516, -13.015424 ], dtype=float32)}\n",
      "{'theta': Array([1.276625 , 5.0128026], dtype=float32)}\n",
      "28.467113 {'theta': Array([1.276625 , 5.0128026], dtype=float32)}\n",
      "{'theta': Array([ -2.9531054, -10.323296 ], dtype=float32)}\n",
      "{'theta': Array([1.5719357, 6.045132 ], dtype=float32)}\n",
      "18.111729 {'theta': Array([1.5719357, 6.045132 ], dtype=float32)}\n",
      "{'theta': Array([-2.4631393, -8.189483 ], dtype=float32)}\n",
      "{'theta': Array([1.8182496, 6.8640804], dtype=float32)}\n",
      "11.541755 {'theta': Array([1.8182496, 6.8640804], dtype=float32)}\n",
      "{'theta': Array([-2.0503612, -6.497901 ], dtype=float32)}\n",
      "{'theta': Array([2.0232856, 7.5138707], dtype=float32)}\n",
      "7.370393 {'theta': Array([2.0232856, 7.5138707], dtype=float32)}\n",
      "{'theta': Array([-1.7036458, -5.156659 ], dtype=float32)}\n",
      "{'theta': Array([2.1936502, 8.029536 ], dtype=float32)}\n",
      "4.7200236 {'theta': Array([2.1936502, 8.029536 ], dtype=float32)}\n",
      "{'theta': Array([-1.4131954, -4.093014 ], dtype=float32)}\n",
      "{'theta': Array([2.3349698, 8.438838 ], dtype=float32)}\n",
      "3.0348408 {'theta': Array([2.3349698, 8.438838 ], dtype=float32)}\n",
      "{'theta': Array([-1.1704643, -3.2493544], dtype=float32)}\n",
      "{'theta': Array([2.452016, 8.763773], dtype=float32)}\n",
      "1.9625969 {'theta': Array([2.452016, 8.763773], dtype=float32)}\n",
      "{'theta': Array([-0.9680536, -2.5800667], dtype=float32)}\n",
      "{'theta': Array([2.5488214, 9.02178  ], dtype=float32)}\n",
      "1.2798702 {'theta': Array([2.5488214, 9.02178  ], dtype=float32)}\n",
      "{'theta': Array([-0.7995993, -2.0490117], dtype=float32)}\n",
      "{'theta': Array([2.6287813, 9.226681 ], dtype=float32)}\n",
      "0.8448626 {'theta': Array([2.6287813, 9.226681 ], dtype=float32)}\n",
      "{'theta': Array([-0.65965796, -1.6275656 ], dtype=float32)}\n",
      "{'theta': Array([2.6947472, 9.389438 ], dtype=float32)}\n",
      "0.56750125 {'theta': Array([2.6947472, 9.389438 ], dtype=float32)}\n",
      "{'theta': Array([-0.5435954, -1.2930408], dtype=float32)}\n",
      "{'theta': Array([2.7491066, 9.518742 ], dtype=float32)}\n",
      "0.3905387 {'theta': Array([2.7491066, 9.518742 ], dtype=float32)}\n",
      "{'theta': Array([-0.44748423, -1.0274651 ], dtype=float32)}\n",
      "{'theta': Array([2.793855, 9.621489], dtype=float32)}\n",
      "0.2775575 {'theta': Array([2.793855, 9.621489], dtype=float32)}\n",
      "{'theta': Array([-0.3680055, -0.8165853], dtype=float32)}\n",
      "{'theta': Array([2.8306556, 9.703147 ], dtype=float32)}\n",
      "0.2053793 {'theta': Array([2.8306556, 9.703147 ], dtype=float32)}\n",
      "{'theta': Array([-0.30236614, -0.64910924], dtype=float32)}\n",
      "{'theta': Array([2.8608923, 9.768058 ], dtype=float32)}\n",
      "0.15923868 {'theta': Array([2.8608923, 9.768058 ], dtype=float32)}\n",
      "{'theta': Array([-0.24822178, -0.5160768 ], dtype=float32)}\n",
      "{'theta': Array([2.8857145, 9.819666 ], dtype=float32)}\n",
      "0.12972456 {'theta': Array([2.8857145, 9.819666 ], dtype=float32)}\n",
      "{'theta': Array([-0.20360924, -0.41038436], dtype=float32)}\n",
      "{'theta': Array([2.9060755, 9.860704 ], dtype=float32)}\n",
      "0.11083443 {'theta': Array([2.9060755, 9.860704 ], dtype=float32)}\n",
      "{'theta': Array([-0.16688876, -0.3263989 ], dtype=float32)}\n",
      "{'theta': Array([2.9227643, 9.893344 ], dtype=float32)}\n",
      "0.09873707 {'theta': Array([2.9227643, 9.893344 ], dtype=float32)}\n",
      "{'theta': Array([-0.13669358, -0.25965017], dtype=float32)}\n",
      "{'theta': Array([2.9364336, 9.919309 ], dtype=float32)}\n",
      "0.09098518 {'theta': Array([2.9364336, 9.919309 ], dtype=float32)}\n",
      "{'theta': Array([-0.11188672, -0.2065898 ], dtype=float32)}\n",
      "{'theta': Array([2.9476223, 9.939968 ], dtype=float32)}\n",
      "0.08601499 {'theta': Array([2.9476223, 9.939968 ], dtype=float32)}\n",
      "{'theta': Array([-0.0915235 , -0.16440172], dtype=float32)}\n",
      "{'theta': Array([2.9567747, 9.9564085], dtype=float32)}\n",
      "0.0828267 {'theta': Array([2.9567747, 9.9564085], dtype=float32)}\n",
      "{'theta': Array([-0.07482174, -0.13085353], dtype=float32)}\n",
      "{'theta': Array([2.964257, 9.969494], dtype=float32)}\n",
      "0.0807804 {'theta': Array([2.964257, 9.969494], dtype=float32)}\n",
      "{'theta': Array([-0.06113296, -0.10417086], dtype=float32)}\n",
      "{'theta': Array([2.9703703, 9.979911 ], dtype=float32)}\n",
      "0.07946635 {'theta': Array([2.9703703, 9.979911 ], dtype=float32)}\n",
      "{'theta': Array([-0.04992216, -0.08294435], dtype=float32)}\n",
      "{'theta': Array([2.9753625, 9.988205 ], dtype=float32)}\n",
      "0.07862214 {'theta': Array([2.9753625, 9.988205 ], dtype=float32)}\n",
      "{'theta': Array([-0.04074628, -0.06605616], dtype=float32)}\n",
      "{'theta': Array([2.979437, 9.99481 ], dtype=float32)}\n",
      "0.07807945 {'theta': Array([2.979437, 9.99481 ], dtype=float32)}\n",
      "{'theta': Array([-0.03324118, -0.05261641], dtype=float32)}\n",
      "{'theta': Array([ 2.9827611, 10.000072 ], dtype=float32)}\n",
      "0.077730484 {'theta': Array([ 2.9827611, 10.000072 ], dtype=float32)}\n",
      "{'theta': Array([-0.02710606, -0.04191849], dtype=float32)}\n",
      "{'theta': Array([ 2.9854717, 10.004263 ], dtype=float32)}\n",
      "0.07750595 {'theta': Array([ 2.9854717, 10.004263 ], dtype=float32)}\n",
      "{'theta': Array([-0.02209371, -0.03340242], dtype=float32)}\n",
      "{'theta': Array([ 2.9876812, 10.007603 ], dtype=float32)}\n",
      "0.07736142 {'theta': Array([ 2.9876812, 10.007603 ], dtype=float32)}\n",
      "{'theta': Array([-0.01800036, -0.02662121], dtype=float32)}\n",
      "{'theta': Array([ 2.9894812, 10.010264 ], dtype=float32)}\n",
      "0.07726837 {'theta': Array([ 2.9894812, 10.010264 ], dtype=float32)}\n",
      "{'theta': Array([-0.01465983, -0.02122072], dtype=float32)}\n",
      "{'theta': Array([ 2.9909472, 10.012386 ], dtype=float32)}\n",
      "0.07720839 {'theta': Array([ 2.9909472, 10.012386 ], dtype=float32)}\n",
      "{'theta': Array([-0.01193461, -0.01691858], dtype=float32)}\n",
      "{'theta': Array([ 2.9921408, 10.014078 ], dtype=float32)}\n",
      "0.07716976 {'theta': Array([ 2.9921408, 10.014078 ], dtype=float32)}\n",
      "{'theta': Array([-0.0097125 , -0.01349093], dtype=float32)}\n",
      "{'theta': Array([ 2.993112, 10.015428], dtype=float32)}\n",
      "0.077144854 {'theta': Array([ 2.993112, 10.015428], dtype=float32)}\n",
      "{'theta': Array([-0.00790153, -0.01075841], dtype=float32)}\n",
      "{'theta': Array([ 2.9939022, 10.016503 ], dtype=float32)}\n",
      "0.07712878 {'theta': Array([ 2.9939022, 10.016503 ], dtype=float32)}\n",
      "{'theta': Array([-0.00642613, -0.0085819 ], dtype=float32)}\n",
      "{'theta': Array([ 2.9945447, 10.017362 ], dtype=float32)}\n",
      "0.0771184 {'theta': Array([ 2.9945447, 10.017362 ], dtype=float32)}\n",
      "{'theta': Array([-0.00522468, -0.00684664], dtype=float32)}\n",
      "{'theta': Array([ 2.9950671, 10.018046 ], dtype=float32)}\n",
      "0.07711172 {'theta': Array([ 2.9950671, 10.018046 ], dtype=float32)}\n",
      "{'theta': Array([-0.00424671, -0.00546323], dtype=float32)}\n",
      "{'theta': Array([ 2.9954917, 10.018593 ], dtype=float32)}\n",
      "0.07710743 {'theta': Array([ 2.9954917, 10.018593 ], dtype=float32)}\n",
      "{'theta': Array([-0.00345083, -0.00435964], dtype=float32)}\n",
      "{'theta': Array([ 2.9958367, 10.019029 ], dtype=float32)}\n",
      "0.0771046 {'theta': Array([ 2.9958367, 10.019029 ], dtype=float32)}\n",
      "{'theta': Array([-0.00280338, -0.00348039], dtype=float32)}\n",
      "{'theta': Array([ 2.996117, 10.019377], dtype=float32)}\n",
      "0.07710282 {'theta': Array([ 2.996117, 10.019377], dtype=float32)}\n",
      "{'theta': Array([-0.00227647, -0.00277864], dtype=float32)}\n",
      "{'theta': Array([ 2.9963448, 10.019654 ], dtype=float32)}\n",
      "0.07710165 {'theta': Array([ 2.9963448, 10.019654 ], dtype=float32)}\n",
      "{'theta': Array([-0.00184822, -0.00221938], dtype=float32)}\n",
      "{'theta': Array([ 2.9965296, 10.0198765], dtype=float32)}\n",
      "0.07710089 {'theta': Array([ 2.9965296, 10.0198765], dtype=float32)}\n",
      "{'theta': Array([-0.00150036, -0.0017719 ], dtype=float32)}\n",
      "{'theta': Array([ 2.9966795, 10.020054 ], dtype=float32)}\n",
      "0.07710041 {'theta': Array([ 2.9966795, 10.020054 ], dtype=float32)}\n",
      "{'theta': Array([-0.00121768, -0.00141487], dtype=float32)}\n",
      "{'theta': Array([ 2.9968014, 10.020195 ], dtype=float32)}\n",
      "0.07710008 {'theta': Array([ 2.9968014, 10.020195 ], dtype=float32)}\n",
      "{'theta': Array([-0.00098772, -0.00113097], dtype=float32)}\n",
      "{'theta': Array([ 2.9969   , 10.0203085], dtype=float32)}\n",
      "0.07709988 {'theta': Array([ 2.9969   , 10.0203085], dtype=float32)}\n",
      "{'theta': Array([-0.0008014 , -0.00090295], dtype=float32)}\n",
      "{'theta': Array([ 2.9969802, 10.020399 ], dtype=float32)}\n"
     ]
    }
   ],
   "source": [
    "## training loop\n",
    "# initial estimates\n",
    "params = {\n",
    "    'theta': jnp.array([0, 0], dtype=jnp.float32)\n",
    "}\n",
    "\n",
    "# hyperparmeters\n",
    "max_steps = 100\n",
    "eps = 1e-4\n",
    "\n",
    "step = 0\n",
    "\n",
    "# until we reach max_steps or the loss doesn't change by <eps>\n",
    "while step < max_steps:\n",
    "    # compute model value and grad\n",
    "    (loss, preds), grads = jax.value_and_grad(sum_squared_error, has_aux=True)(params, xs, ys)\n",
    "\n",
    "\n",
    "    print(loss, params)\n",
    "    print(grads)\n",
    "    params_ = update(params, grads)\n",
    "    print(params_)\n",
    "\n",
    "    if jnp.mean(jnp.abs(params['theta'] - params_['theta'])) < eps:\n",
    "        break\n",
    "    params = params_\n",
    "    step += 1\n",
    "    # # check diff \n",
    "    # prev_loss, diff = loss, jnp.abs(prev_loss - loss)"
   ]
  },
  {
   "cell_type": "code",
   "execution_count": 15,
   "id": "a6d4dff5-044b-43de-988a-8eea087a02ed",
   "metadata": {},
   "outputs": [
    {
     "data": {
      "text/plain": [
       "<matplotlib.collections.PathCollection at 0x7f986424d240>"
      ]
     },
     "execution_count": 15,
     "metadata": {},
     "output_type": "execute_result"
    },
    {
     "data": {
      "image/png": "[encoded data removed]",
      "text/plain": [
       "<Figure size 640x480 with 1 Axes>"
      ]
     },
     "metadata": {},
     "output_type": "display_data"
    }
   ],
   "source": [
    "plt.scatter(xs[:,1], ys)"
   ]
  },
  {
   "cell_type": "code",
   "execution_count": 16,
   "id": "a0ce54cc-74aa-4e45-8901-424cd59e0e24",
   "metadata": {},
   "outputs": [
    {
     "data": {
      "text/plain": [
       "Array([ 12.493873  ,  -9.028587  ,  24.72115   ,   2.5702012 ,\n",
       "        12.211575  ,   8.909809  ,  13.05019   ,   0.14888489,\n",
       "        -2.2764556 ,  -1.7118025 ,   3.2784672 ,   0.56862575,\n",
       "       -20.479805  ,   0.7529783 ,   9.879304  ,  -0.24742165,\n",
       "         2.1437247 ,   7.4998655 ,   3.1642702 ,   9.261934  ,\n",
       "        13.566552  ,  -4.7826204 ,   3.6496117 ,   0.39202818,\n",
       "         1.1571431 ,   8.13287   ,  -2.3310342 ,  -2.1470547 ,\n",
       "       -14.472023  , -13.227813  ,  12.465737  ,  20.67532   ,\n",
       "        11.651318  ,  15.13962   , -11.997861  ,   0.86735797,\n",
       "         5.812044  , -15.537364  ,  14.569936  ,  10.9486    ,\n",
       "        -1.535847  ,   7.6793203 ,  11.936093  ,  -4.336235  ,\n",
       "        -9.746168  ,   9.202869  ,  -3.9970396 ,  -1.048643  ,\n",
       "        13.346671  ,   4.423552  ,  13.7668    ,  -0.80229515,\n",
       "       -12.461527  , -16.431646  , -15.33582   ,  -4.2834773 ,\n",
       "        -9.4483795 , -11.227207  ,  16.827394  ,  -4.6452928 ,\n",
       "        -1.5389682 ,   5.673973  ,  10.348031  ,  14.594917  ,\n",
       "       -16.198408  ,  -3.5799422 ,  15.114896  ,  11.086439  ,\n",
       "         7.4486747 ,   0.78896767,   6.067472  ,  26.046604  ,\n",
       "        -5.6023903 ,  13.480433  ,   4.348935  ,  -5.7437086 ,\n",
       "        11.752588  ,  12.836406  ,   1.7509122 , -18.157883  ,\n",
       "        16.729097  ,   5.9159756 ,  10.252782  , -15.43567   ,\n",
       "         7.339978  ,   4.898586  ,  13.886132  , -21.684502  ,\n",
       "        -4.718462  ,  -0.4810438 ,   5.075864  ,  10.990167  ,\n",
       "       -10.602338  ,   5.517686  ,   8.00149   ,   5.1689167 ,\n",
       "        13.571514  ,   5.7460313 ,  -2.895863  , -10.280972  ],      dtype=float32)"
      ]
     },
     "execution_count": 16,
     "metadata": {},
     "output_type": "execute_result"
    }
   ],
   "source": [
    "preds"
   ]
  },
  {
   "cell_type": "code",
   "execution_count": 17,
   "id": "e14f6f96-c745-4abd-ac9f-c458f8f467d4",
   "metadata": {},
   "outputs": [
    {
     "data": {
      "text/plain": [
       "{'theta': Array([-0.0008014 , -0.00090295], dtype=float32)}"
      ]
     },
     "execution_count": 17,
     "metadata": {},
     "output_type": "execute_result"
    }
   ],
   "source": [
    "grads"
   ]
  },
  {
   "cell_type": "code",
   "execution_count": 18,
   "id": "83dcf20b-0e76-4eb5-b15a-feced4989dcf",
   "metadata": {},
   "outputs": [
    {
     "data": {
      "text/plain": [
       "array([ 3., 10.], dtype=float32)"
      ]
     },
     "execution_count": 18,
     "metadata": {},
     "output_type": "execute_result"
    }
   ],
   "source": [
    "theta"
   ]
  },
  {
   "cell_type": "code",
   "execution_count": 20,
   "metadata": {},
   "outputs": [
    {
     "data": {
      "text/plain": [
       "{'theta': Array([ 2.9969   , 10.0203085], dtype=float32)}"
      ]
     },
     "execution_count": 20,
     "metadata": {},
     "output_type": "execute_result"
    }
   ],
   "source": [
    "params"
   ]
  }
 ],
 "metadata": {
  "kernelspec": {
   "display_name": "Python 3 (ipykernel)",
   "language": "python",
   "name": "python3"
  },
  "language_info": {
   "codemirror_mode": {
    "name": "ipython",
    "version": 3
   },
   "file_extension": ".py",
   "mimetype": "text/x-python",
   "name": "python",
   "nbconvert_exporter": "python",
   "pygments_lexer": "ipython3",
   "version": "3.10.13"
  }
 },
 "nbformat": 4,
 "nbformat_minor": 5
}
