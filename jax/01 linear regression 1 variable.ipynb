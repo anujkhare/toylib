{
 "cells": [
  {
   "cell_type": "markdown",
   "id": "dc792d2a-4169-45c2-a7cb-605617205403",
   "metadata": {},
   "source": [
    "### linear regression in 1 variable\n",
    "https://jax.readthedocs.io/en/latest/jax-101/01-jax-basics.html"
   ]
  },
  {
   "cell_type": "code",
   "execution_count": 2,
   "id": "a0510af7-864c-4016-8f4e-aa434b2a2532",
   "metadata": {},
   "outputs": [],
   "source": [
    "import jax\n",
    "import jax.numpy as jnp\n",
    "import numpy as np\n",
    "import matplotlib.pyplot as plt"
   ]
  },
  {
   "cell_type": "code",
   "execution_count": 3,
   "id": "da4c6f7c-14bb-4012-b873-343b1e97104f",
   "metadata": {},
   "outputs": [],
   "source": [
    "## dummy data\n",
    "size = 100\n",
    "xs = np.stack([np.ones(size,), np.random.normal(size=(size,))]).T\n",
    "noise = np.random.normal(scale=0.3, size=(size,))\n",
    "# intercept, slope\n",
    "theta = np.array([3, 10]).astype(np.float32)  #@param\n",
    "\n",
    "ys = np.dot(xs, theta) + noise"
   ]
  },
  {
   "cell_type": "code",
   "execution_count": 4,
   "id": "d6deba0c-8b45-437c-9448-a8d2c5c4016a",
   "metadata": {},
   "outputs": [
    {
     "data": {
      "text/plain": [
       "<matplotlib.collections.PathCollection at 0x14e88c910>"
      ]
     },
     "execution_count": 4,
     "metadata": {},
     "output_type": "execute_result"
    },
    {
     "data": {
      "image/png": "[encoded data removed]",
      "text/plain": [
       "<Figure size 640x480 with 1 Axes>"
      ]
     },
     "metadata": {},
     "output_type": "display_data"
    }
   ],
   "source": [
    "plt.scatter(xs[:, 1], ys)"
   ]
  },
  {
   "cell_type": "code",
   "execution_count": 5,
   "id": "082dc03a-a26e-411c-846c-ecb5c7a6733a",
   "metadata": {},
   "outputs": [],
   "source": [
    "params = {\n",
    "    'theta': theta\n",
    "}\n",
    "data = {'x': xs, 'y': ys}"
   ]
  },
  {
   "cell_type": "code",
   "execution_count": 6,
   "id": "d09a33be-80bc-4de1-9f33-c3abe64bb337",
   "metadata": {},
   "outputs": [],
   "source": [
    "## model function\n",
    "def model(params, x):\n",
    "    y = jnp.dot(x, params['theta'])\n",
    "    return y"
   ]
  },
  {
   "cell_type": "code",
   "execution_count": 7,
   "id": "61a8331a-3e73-4a31-9dad-63c7f48c3e5e",
   "metadata": {},
   "outputs": [],
   "source": [
    "## loss function\n",
    "def sum_squared_error(params, x, y):\n",
    "    preds = model(params, x)\n",
    "    return jnp.mean((y - preds) ** 2), preds\n",
    "\n",
    "\n",
    "def update(params, grads, lr=0.1):\n",
    "    return {\n",
    "        'theta': params['theta'] - lr * grads['theta']\n",
    "    }"
   ]
  },
  {
   "cell_type": "code",
   "execution_count": 8,
   "id": "20fa3c3b-5586-47ed-81cb-7a2b46d80aa8",
   "metadata": {},
   "outputs": [
    {
     "name": "stderr",
     "output_type": "stream",
     "text": [
      "WARNING: All log messages before absl::InitializeLog() is called are written to STDERR\n",
      "I0000 00:00:1704249567.822989       1 tfrt_cpu_pjrt_client.cc:349] TfrtCpuClient created.\n"
     ]
    },
    {
     "name": "stdout",
     "output_type": "stream",
     "text": [
      "95.67902 {'theta': Array([0., 0.], dtype=float32)}\n",
      "{'theta': Array([ -7.7747893, -16.746561 ], dtype=float32)}\n",
      "{'theta': Array([0.77747893, 1.6746562 ], dtype=float32)}\n",
      "64.688416 {'theta': Array([0.77747893, 1.6746562 ], dtype=float32)}\n",
      "{'theta': Array([ -5.9383984, -13.898239 ], dtype=float32)}\n",
      "{'theta': Array([1.3713188, 3.06448  ], dtype=float32)}\n",
      "43.904514 {'theta': Array([1.3713188, 3.06448  ], dtype=float32)}\n",
      "{'theta': Array([ -4.5171514, -11.54301  ], dtype=float32)}\n",
      "{'theta': Array([1.8230339, 4.218781 ], dtype=float32)}\n",
      "29.912748 {'theta': Array([1.8230339, 4.218781 ], dtype=float32)}\n",
      "{'theta': Array([-3.4197354, -9.593876 ], dtype=float32)}\n",
      "{'theta': Array([2.1650076, 5.178169 ], dtype=float32)}\n",
      "20.45796 {'theta': Array([2.1650076, 5.178169 ], dtype=float32)}\n",
      "{'theta': Array([-2.574558, -7.979494], dtype=float32)}\n",
      "{'theta': Array([2.4224634, 5.976118 ], dtype=float32)}\n",
      "14.045344 {'theta': Array([2.4224634, 5.976118 ], dtype=float32)}\n",
      "{'theta': Array([-1.9255469, -6.6413026], dtype=float32)}\n",
      "{'theta': Array([2.6150181, 6.6402483], dtype=float32)}\n",
      "9.680337 {'theta': Array([2.6150181, 6.6402483], dtype=float32)}\n",
      "{'theta': Array([-1.4288269, -5.531178 ], dtype=float32)}\n",
      "{'theta': Array([2.7579007, 7.193366 ], dtype=float32)}\n",
      "6.698728 {'theta': Array([2.7579007, 7.193366 ], dtype=float32)}\n",
      "{'theta': Array([-1.0501078, -4.6095576], dtype=float32)}\n",
      "{'theta': Array([2.8629115, 7.6543217], dtype=float32)}\n",
      "4.6552243 {'theta': Array([2.8629115, 7.6543217], dtype=float32)}\n",
      "{'theta': Array([-0.76262033, -3.8438632 ], dtype=float32)}\n",
      "{'theta': Array([2.9391735, 8.038708 ], dtype=float32)}\n",
      "3.2501683 {'theta': Array([2.9391735, 8.038708 ], dtype=float32)}\n",
      "{'theta': Array([-0.5454983, -3.207257 ], dtype=float32)}\n",
      "{'theta': Array([2.9937234, 8.359433 ], dtype=float32)}\n",
      "2.2811437 {'theta': Array([2.9937234, 8.359433 ], dtype=float32)}\n",
      "{'theta': Array([-0.38249904, -2.6776114 ], dtype=float32)}\n",
      "{'theta': Array([3.0319734, 8.627194 ], dtype=float32)}\n",
      "1.6109118 {'theta': Array([3.0319734, 8.627194 ], dtype=float32)}\n",
      "{'theta': Array([-0.26100045, -2.2366555 ], dtype=float32)}\n",
      "{'theta': Array([3.0580735, 8.85086  ], dtype=float32)}\n",
      "1.1460917 {'theta': Array([3.0580735, 8.85086  ], dtype=float32)}\n",
      "{'theta': Array([-0.17121205, -1.8693012 ], dtype=float32)}\n",
      "{'theta': Array([3.0751948, 9.037789 ], dtype=float32)}\n",
      "0.8229161 {'theta': Array([3.0751948, 9.037789 ], dtype=float32)}\n",
      "{'theta': Array([-0.10555499, -1.5630704 ], dtype=float32)}\n",
      "{'theta': Array([3.0857503, 9.194097 ], dtype=float32)}\n",
      "0.59769577 {'theta': Array([3.0857503, 9.194097 ], dtype=float32)}\n",
      "{'theta': Array([-0.05817582, -1.3076383 ], dtype=float32)}\n",
      "{'theta': Array([3.091568, 9.324861], dtype=float32)}\n",
      "0.44040152 {'theta': Array([3.091568, 9.324861], dtype=float32)}\n",
      "{'theta': Array([-0.02456503, -1.0944546 ], dtype=float32)}\n",
      "{'theta': Array([3.0940244, 9.434306 ], dtype=float32)}\n",
      "0.33032846 {'theta': Array([3.0940244, 9.434306 ], dtype=float32)}\n",
      "{'theta': Array([-0.0012592, -0.9164314], dtype=float32)}\n",
      "{'theta': Array([3.0941503, 9.5259495], dtype=float32)}\n",
      "0.25316003 {'theta': Array([3.0941503, 9.5259495], dtype=float32)}\n",
      "{'theta': Array([ 0.01439369, -0.76768976], dtype=float32)}\n",
      "{'theta': Array([3.092711, 9.602718], dtype=float32)}\n",
      "0.19897018 {'theta': Array([3.092711, 9.602718], dtype=float32)}\n",
      "{'theta': Array([ 0.02441637, -0.64334977], dtype=float32)}\n",
      "{'theta': Array([3.0902693, 9.667053 ], dtype=float32)}\n",
      "0.16085869 {'theta': Array([3.0902693, 9.667053 ], dtype=float32)}\n",
      "{'theta': Array([ 0.03034484, -0.53935635], dtype=float32)}\n",
      "{'theta': Array([3.0872347, 9.720989 ], dtype=float32)}\n",
      "0.13401805 {'theta': Array([3.0872347, 9.720989 ], dtype=float32)}\n",
      "{'theta': Array([ 0.03333994, -0.45233783], dtype=float32)}\n",
      "{'theta': Array([3.0839007, 9.766223 ], dtype=float32)}\n",
      "0.11509195 {'theta': Array([3.0839007, 9.766223 ], dtype=float32)}\n",
      "{'theta': Array([ 0.03427362, -0.37949216], dtype=float32)}\n",
      "{'theta': Array([3.0804734, 9.8041725], dtype=float32)}\n",
      "0.101731375 {'theta': Array([3.0804734, 9.8041725], dtype=float32)}\n",
      "{'theta': Array([ 0.03379662, -0.318483  ], dtype=float32)}\n",
      "{'theta': Array([3.0770938, 9.83602  ], dtype=float32)}\n",
      "0.092290446 {'theta': Array([3.0770938, 9.83602  ], dtype=float32)}\n",
      "{'theta': Array([ 0.03238961, -0.2673672 ], dtype=float32)}\n",
      "{'theta': Array([3.073855, 9.862757], dtype=float32)}\n",
      "0.08561312 {'theta': Array([3.073855, 9.862757], dtype=float32)}\n",
      "{'theta': Array([ 0.03040503, -0.22452359], dtype=float32)}\n",
      "{'theta': Array([3.0708144, 9.885209 ], dtype=float32)}\n",
      "0.080886394 {'theta': Array([3.0708144, 9.885209 ], dtype=float32)}\n",
      "{'theta': Array([ 0.02809718, -0.18859833], dtype=float32)}\n",
      "{'theta': Array([3.0680046, 9.904069 ], dtype=float32)}\n",
      "0.077538095 {'theta': Array([3.0680046, 9.904069 ], dtype=float32)}\n",
      "{'theta': Array([ 0.02564711, -0.15846446], dtype=float32)}\n",
      "{'theta': Array([3.06544 , 9.919915], dtype=float32)}\n",
      "0.07516476 {'theta': Array([3.06544 , 9.919915], dtype=float32)}\n",
      "{'theta': Array([ 0.02318082, -0.13317989], dtype=float32)}\n",
      "{'theta': Array([3.0631218, 9.933233 ], dtype=float32)}\n",
      "0.07348144 {'theta': Array([3.0631218, 9.933233 ], dtype=float32)}\n",
      "{'theta': Array([ 0.02078272, -0.11195665], dtype=float32)}\n",
      "{'theta': Array([3.0610435, 9.944429 ], dtype=float32)}\n",
      "0.07228689 {'theta': Array([3.0610435, 9.944429 ], dtype=float32)}\n",
      "{'theta': Array([ 0.01850769, -0.09413669], dtype=float32)}\n",
      "{'theta': Array([3.0591927, 9.953843 ], dtype=float32)}\n",
      "0.07143887 {'theta': Array([3.0591927, 9.953843 ], dtype=float32)}\n",
      "{'theta': Array([ 0.01638795, -0.07917106], dtype=float32)}\n",
      "{'theta': Array([3.0575538, 9.9617605], dtype=float32)}\n",
      "0.07083655 {'theta': Array([3.0575538, 9.9617605], dtype=float32)}\n",
      "{'theta': Array([ 0.01444086, -0.06659784], dtype=float32)}\n",
      "{'theta': Array([3.0561097, 9.96842  ], dtype=float32)}\n",
      "0.070408635 {'theta': Array([3.0561097, 9.96842  ], dtype=float32)}\n",
      "{'theta': Array([ 0.01267176, -0.05603343], dtype=float32)}\n",
      "{'theta': Array([3.0548425, 9.974024 ], dtype=float32)}\n",
      "0.070104465 {'theta': Array([3.0548425, 9.974024 ], dtype=float32)}\n",
      "{'theta': Array([ 0.01107916, -0.0471523 ], dtype=float32)}\n",
      "{'theta': Array([3.0537345, 9.978739 ], dtype=float32)}\n",
      "0.06988825 {'theta': Array([3.0537345, 9.978739 ], dtype=float32)}\n",
      "{'theta': Array([ 0.00965561, -0.03968695], dtype=float32)}\n",
      "{'theta': Array([3.052769, 9.982707], dtype=float32)}\n",
      "0.06973451 {'theta': Array([3.052769, 9.982707], dtype=float32)}\n",
      "{'theta': Array([ 0.00839119, -0.03340963], dtype=float32)}\n",
      "{'theta': Array([3.0519297, 9.986048 ], dtype=float32)}\n",
      "0.06962515 {'theta': Array([3.0519297, 9.986048 ], dtype=float32)}\n",
      "{'theta': Array([ 0.00727428, -0.02812914], dtype=float32)}\n",
      "{'theta': Array([3.0512023, 9.988861 ], dtype=float32)}\n",
      "0.069547325 {'theta': Array([3.0512023, 9.988861 ], dtype=float32)}\n",
      "{'theta': Array([ 0.00629223, -0.02368597], dtype=float32)}\n",
      "{'theta': Array([3.050573, 9.99123 ], dtype=float32)}\n",
      "0.069491945 {'theta': Array([3.050573, 9.99123 ], dtype=float32)}\n",
      "{'theta': Array([ 0.00543193, -0.01994734], dtype=float32)}\n",
      "{'theta': Array([3.05003 , 9.993225], dtype=float32)}\n",
      "0.069452554 {'theta': Array([3.05003 , 9.993225], dtype=float32)}\n",
      "{'theta': Array([ 0.00468095, -0.01680096], dtype=float32)}\n",
      "{'theta': Array([3.049562, 9.994905], dtype=float32)}\n",
      "0.06942449 {'theta': Array([3.049562, 9.994905], dtype=float32)}\n",
      "{'theta': Array([ 0.00402737, -0.01415257], dtype=float32)}\n",
      "{'theta': Array([3.0491593, 9.996321 ], dtype=float32)}\n",
      "0.06940456 {'theta': Array([3.0491593, 9.996321 ], dtype=float32)}\n",
      "{'theta': Array([ 0.00345994, -0.01192359], dtype=float32)}\n",
      "{'theta': Array([3.0488133, 9.997513 ], dtype=float32)}\n",
      "0.06939033 {'theta': Array([3.0488133, 9.997513 ], dtype=float32)}\n",
      "{'theta': Array([ 0.00296816, -0.01004729], dtype=float32)}\n",
      "{'theta': Array([3.0485165, 9.998518 ], dtype=float32)}\n",
      "0.069380194 {'theta': Array([3.0485165, 9.998518 ], dtype=float32)}\n",
      "{'theta': Array([ 0.0025436 , -0.00846575], dtype=float32)}\n",
      "{'theta': Array([3.0482621, 9.999365 ], dtype=float32)}\n",
      "0.06937301 {'theta': Array([3.0482621, 9.999365 ], dtype=float32)}\n",
      "{'theta': Array([ 0.00217698, -0.00713441], dtype=float32)}\n",
      "{'theta': Array([ 3.0480444, 10.000078 ], dtype=float32)}\n",
      "0.06936789 {'theta': Array([ 3.0480444, 10.000078 ], dtype=float32)}\n",
      "{'theta': Array([ 0.00186168, -0.00601324], dtype=float32)}\n",
      "{'theta': Array([ 3.0478582, 10.00068  ], dtype=float32)}\n",
      "0.069364205 {'theta': Array([ 3.0478582, 10.00068  ], dtype=float32)}\n",
      "{'theta': Array([ 0.00159027, -0.00506801], dtype=float32)}\n",
      "{'theta': Array([ 3.0476992, 10.001186 ], dtype=float32)}\n",
      "0.06936164 {'theta': Array([ 3.0476992, 10.001186 ], dtype=float32)}\n",
      "{'theta': Array([ 0.00135742, -0.00427289], dtype=float32)}\n",
      "{'theta': Array([ 3.0475636, 10.001614 ], dtype=float32)}\n",
      "0.06935979 {'theta': Array([ 3.0475636, 10.001614 ], dtype=float32)}\n",
      "{'theta': Array([ 0.0011579 , -0.00360242], dtype=float32)}\n",
      "{'theta': Array([ 3.0474477, 10.001974 ], dtype=float32)}\n",
      "0.06935847 {'theta': Array([ 3.0474477, 10.001974 ], dtype=float32)}\n",
      "{'theta': Array([ 0.00098664, -0.00303688], dtype=float32)}\n",
      "{'theta': Array([ 3.047349, 10.002277], dtype=float32)}\n",
      "0.06935751 {'theta': Array([ 3.047349, 10.002277], dtype=float32)}\n",
      "{'theta': Array([ 0.00084021, -0.00256131], dtype=float32)}\n",
      "{'theta': Array([ 3.047265, 10.002534], dtype=float32)}\n",
      "0.069356844 {'theta': Array([ 3.047265, 10.002534], dtype=float32)}\n",
      "{'theta': Array([ 0.0007155 , -0.00215914], dtype=float32)}\n",
      "{'theta': Array([ 3.0471935, 10.002749 ], dtype=float32)}\n",
      "0.06935635 {'theta': Array([ 3.0471935, 10.002749 ], dtype=float32)}\n",
      "{'theta': Array([ 0.00060867, -0.0018214 ], dtype=float32)}\n",
      "{'theta': Array([ 3.0471327, 10.002932 ], dtype=float32)}\n",
      "0.06935602 {'theta': Array([ 3.0471327, 10.002932 ], dtype=float32)}\n",
      "{'theta': Array([ 0.00051762, -0.00153608], dtype=float32)}\n",
      "{'theta': Array([ 3.047081, 10.003085], dtype=float32)}\n",
      "0.06935578 {'theta': Array([ 3.047081, 10.003085], dtype=float32)}\n",
      "{'theta': Array([ 0.00044002, -0.00129545], dtype=float32)}\n",
      "{'theta': Array([ 3.047037, 10.003215], dtype=float32)}\n"
     ]
    }
   ],
   "source": [
    "## training loop\n",
    "# initial estimates\n",
    "params = {\n",
    "    'theta': jnp.array([0, 0], dtype=jnp.float32)\n",
    "}\n",
    "\n",
    "# hyperparmeters\n",
    "max_steps = 100\n",
    "eps = 1e-4\n",
    "\n",
    "step = 0\n",
    "\n",
    "# until we reach max_steps or the loss doesn't change by <eps>\n",
    "while step < max_steps:\n",
    "    # compute model value and grad\n",
    "    (loss, preds), grads = jax.value_and_grad(sum_squared_error, has_aux=True)(params, xs, ys)\n",
    "\n",
    "\n",
    "    print(loss, params)\n",
    "    print(grads)\n",
    "    params_ = update(params, grads)\n",
    "    print(params_)\n",
    "\n",
    "    if jnp.mean(jnp.abs(params['theta'] - params_['theta'])) < eps:\n",
    "        break\n",
    "    params = params_\n",
    "    step += 1\n",
    "    # # check diff \n",
    "    # prev_loss, diff = loss, jnp.abs(prev_loss - loss)"
   ]
  },
  {
   "cell_type": "code",
   "execution_count": 9,
   "id": "a6d4dff5-044b-43de-988a-8eea087a02ed",
   "metadata": {},
   "outputs": [
    {
     "data": {
      "text/plain": [
       "<matplotlib.collections.PathCollection at 0x14ec59f50>"
      ]
     },
     "execution_count": 9,
     "metadata": {},
     "output_type": "execute_result"
    },
    {
     "data": {
      "image/png": "[encoded data removed]",
      "text/plain": [
       "<Figure size 640x480 with 1 Axes>"
      ]
     },
     "metadata": {},
     "output_type": "display_data"
    }
   ],
   "source": [
    "plt.scatter(xs[:,1], ys)"
   ]
  },
  {
   "cell_type": "code",
   "execution_count": 10,
   "id": "a0ce54cc-74aa-4e45-8901-424cd59e0e24",
   "metadata": {},
   "outputs": [
    {
     "data": {
      "text/plain": [
       "Array([  5.011773  ,   9.950649  ,  11.468866  ,  -2.8643634 ,\n",
       "        -4.7280703 ,  28.120071  ,   3.1799996 ,   1.9722625 ,\n",
       "        20.91481   ,   0.7542328 ,  15.913451  ,   2.1398826 ,\n",
       "         4.6998324 ,  17.565426  ,  -3.7386916 ,  23.792915  ,\n",
       "        -1.1763389 ,   4.3474956 ,   2.7817822 , -11.367694  ,\n",
       "        -7.5206437 , -13.560707  ,   3.5851429 ,   2.6254723 ,\n",
       "        -2.4720259 ,  25.643703  ,  -1.4161645 ,  -3.1627755 ,\n",
       "         5.9820366 , -17.23104   , -11.127641  , -16.566423  ,\n",
       "         6.4774356 ,  15.137317  ,   5.160667  ,  -1.8865829 ,\n",
       "         1.4002889 ,  -5.975161  ,   6.891036  ,  -0.2132314 ,\n",
       "         2.3155441 ,  -6.9223022 ,   6.5658236 ,   4.52588   ,\n",
       "        10.86635   ,   6.358028  ,   3.1379297 ,   9.74672   ,\n",
       "        -1.1435603 ,  15.368155  ,   6.2229304 ,  -7.9846563 ,\n",
       "         8.089964  ,  -9.913124  ,  12.299455  ,  24.14232   ,\n",
       "        -2.2708495 ,  -0.3814396 , -16.22014   ,  11.071951  ,\n",
       "         6.185633  ,   8.770357  ,   2.3502975 ,   7.5505886 ,\n",
       "        -0.18589483,   3.567377  ,  13.821871  ,  -3.014165  ,\n",
       "         7.905882  ,   3.279705  ,   5.8824434 ,   3.1783626 ,\n",
       "         8.215078  ,   2.0899212 ,   8.468234  ,   6.2819276 ,\n",
       "         5.6993217 ,   7.2444644 ,   3.7577069 ,   2.2516654 ,\n",
       "        -2.0000076 ,  20.735003  ,  24.718779  ,   4.4783173 ,\n",
       "        -2.2142768 ,   1.8392285 ,  -5.4143434 ,  -1.9671577 ,\n",
       "        12.106742  ,  -4.938626  ,  -0.5541955 ,  11.78131   ,\n",
       "         5.2311673 ,   9.976926  ,  -3.0724506 ,  -3.3404603 ,\n",
       "        -3.2426167 ,  13.507083  ,   9.216168  ,   2.2301571 ],      dtype=float32)"
      ]
     },
     "execution_count": 10,
     "metadata": {},
     "output_type": "execute_result"
    }
   ],
   "source": [
    "preds"
   ]
  },
  {
   "cell_type": "code",
   "execution_count": 11,
   "id": "e14f6f96-c745-4abd-ac9f-c458f8f467d4",
   "metadata": {},
   "outputs": [
    {
     "data": {
      "text/plain": [
       "{'theta': Array([ 0.00044002, -0.00129545], dtype=float32)}"
      ]
     },
     "execution_count": 11,
     "metadata": {},
     "output_type": "execute_result"
    }
   ],
   "source": [
    "grads"
   ]
  },
  {
   "cell_type": "code",
   "execution_count": 12,
   "id": "83dcf20b-0e76-4eb5-b15a-feced4989dcf",
   "metadata": {},
   "outputs": [
    {
     "data": {
      "text/plain": [
       "array([ 3., 10.], dtype=float32)"
      ]
     },
     "execution_count": 12,
     "metadata": {},
     "output_type": "execute_result"
    }
   ],
   "source": [
    "theta"
   ]
  },
  {
   "cell_type": "code",
   "execution_count": 13,
   "metadata": {},
   "outputs": [
    {
     "data": {
      "text/plain": [
       "{'theta': Array([ 3.047081, 10.003085], dtype=float32)}"
      ]
     },
     "execution_count": 13,
     "metadata": {},
     "output_type": "execute_result"
    }
   ],
   "source": [
    "params"
   ]
  },
  {
   "cell_type": "code",
   "execution_count": null,
   "id": "5ebd3997",
   "metadata": {},
   "outputs": [],
   "source": []
  },
  {
   "cell_type": "code",
   "execution_count": null,
   "id": "ed7fcdc1",
   "metadata": {},
   "outputs": [],
   "source": []
  }
 ],
 "metadata": {
  "kernelspec": {
   "display_name": "Python 3 (ipykernel)",
   "language": "python",
   "name": "python3"
  },
  "language_info": {
   "codemirror_mode": {
    "name": "ipython",
    "version": 3
   },
   "file_extension": ".py",
   "mimetype": "text/x-python",
   "name": "python",
   "nbconvert_exporter": "python",
   "pygments_lexer": "ipython3",
   "version": "3.11.5"
  }
 },
 "nbformat": 4,
 "nbformat_minor": 5
}
