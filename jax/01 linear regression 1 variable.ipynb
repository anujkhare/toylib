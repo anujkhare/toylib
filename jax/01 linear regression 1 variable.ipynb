{
 "cells": [
  {
   "cell_type": "markdown",
   "id": "dc792d2a-4169-45c2-a7cb-605617205403",
   "metadata": {},
   "source": [
    "### linear regression in 1 variable\n",
    "https://jax.readthedocs.io/en/latest/jax-101/01-jax-basics.html"
   ]
  },
  {
   "cell_type": "code",
   "execution_count": 1,
   "id": "a0510af7-864c-4016-8f4e-aa434b2a2532",
   "metadata": {},
   "outputs": [],
   "source": [
    "import jax\n",
    "import jax.numpy as jnp\n",
    "import numpy as np\n",
    "import matplotlib.pyplot as plt"
   ]
  },
  {
   "cell_type": "code",
   "execution_count": 16,
   "id": "da4c6f7c-14bb-4012-b873-343b1e97104f",
   "metadata": {},
   "outputs": [],
   "source": [
    "## dummy data\n",
    "size = 100\n",
    "xs = np.stack([np.ones(size,), np.random.normal(size=(size,))]).T\n",
    "noise = np.random.normal(scale=0.3, size=(size,))\n",
    "# intercept, slope\n",
    "theta = np.array([3, 10]).astype(np.float32)  #@param\n",
    "\n",
    "ys = np.dot(xs, theta) + noise"
   ]
  },
  {
   "cell_type": "code",
   "execution_count": 18,
   "id": "d6deba0c-8b45-437c-9448-a8d2c5c4016a",
   "metadata": {},
   "outputs": [
    {
     "data": {
      "text/plain": [
       "<matplotlib.collections.PathCollection at 0x7fc2f6025550>"
      ]
     },
     "execution_count": 18,
     "metadata": {},
     "output_type": "execute_result"
    },
    {
     "data": {
      "image/png": "[encoded data removed]",
      "text/plain": [
       "<Figure size 640x480 with 1 Axes>"
      ]
     },
     "metadata": {},
     "output_type": "display_data"
    }
   ],
   "source": [
    "plt.scatter(xs[:, 1], ys)"
   ]
  },
  {
   "cell_type": "code",
   "execution_count": 19,
   "id": "082dc03a-a26e-411c-846c-ecb5c7a6733a",
   "metadata": {},
   "outputs": [],
   "source": [
    "params = {\n",
    "    'theta': theta\n",
    "}\n",
    "data = {'x': xs, 'y': ys}"
   ]
  },
  {
   "cell_type": "code",
   "execution_count": 20,
   "id": "d09a33be-80bc-4de1-9f33-c3abe64bb337",
   "metadata": {},
   "outputs": [],
   "source": [
    "## model function\n",
    "def model(params, x):\n",
    "    y = jnp.dot(x, params['theta'])\n",
    "    return y"
   ]
  },
  {
   "cell_type": "code",
   "execution_count": 21,
   "id": "61a8331a-3e73-4a31-9dad-63c7f48c3e5e",
   "metadata": {},
   "outputs": [],
   "source": [
    "## loss function\n",
    "def sum_squared_error(params, x, y):\n",
    "    preds = model(params, x)\n",
    "    return jnp.mean((y - preds) ** 2), preds\n",
    "\n",
    "\n",
    "def update(params, grads, lr=0.1):\n",
    "    return {\n",
    "        'theta': params['theta'] - lr * grads['theta']\n",
    "    }"
   ]
  },
  {
   "cell_type": "code",
   "execution_count": 22,
   "id": "20fa3c3b-5586-47ed-81cb-7a2b46d80aa8",
   "metadata": {},
   "outputs": [
    {
     "name": "stdout",
     "output_type": "stream",
     "text": [
      "8581.413 {'theta': Array([0., 0.], dtype=float32)}\n",
      "{'theta': Array([ 4.41155 , 17.033295], dtype=float32)}\n",
      "5779.061 {'theta': Array([ 4.41155 , 17.033295], dtype=float32)}\n",
      "{'theta': Array([ 7.291197, 31.016014], dtype=float32)}\n",
      "3930.0457 {'theta': Array([ 7.291197, 31.016014], dtype=float32)}\n",
      "{'theta': Array([ 9.061658, 42.52279 ], dtype=float32)}\n",
      "2697.573 {'theta': Array([ 9.061658, 42.52279 ], dtype=float32)}\n",
      "{'theta': Array([10.039196, 52.014885], dtype=float32)}\n",
      "1867.7446 {'theta': Array([10.039196, 52.014885], dtype=float32)}\n",
      "{'theta': Array([10.4592285, 59.863472 ], dtype=float32)}\n",
      "1303.5302 {'theta': Array([10.4592285, 59.863472 ], dtype=float32)}\n",
      "{'theta': Array([10.495935, 66.36792 ], dtype=float32)}\n",
      "916.3267 {'theta': Array([10.495935, 66.36792 ], dtype=float32)}\n",
      "{'theta': Array([10.277243, 71.7703  ], dtype=float32)}\n",
      "648.28235 {'theta': Array([10.277243, 71.7703  ], dtype=float32)}\n",
      "{'theta': Array([ 9.896259, 76.266846], dtype=float32)}\n",
      "461.24072 {'theta': Array([ 9.896259, 76.266846], dtype=float32)}\n",
      "{'theta': Array([ 9.419989, 80.01702 ], dtype=float32)}\n",
      "329.77914 {'theta': Array([ 9.419989, 80.01702 ], dtype=float32)}\n",
      "{'theta': Array([ 8.895952, 83.150764], dtype=float32)}\n",
      "236.78679 {'theta': Array([ 8.895952, 83.150764], dtype=float32)}\n",
      "{'theta': Array([ 8.357213, 85.77421 ], dtype=float32)}\n",
      "170.6343 {'theta': Array([ 8.357213, 85.77421 ], dtype=float32)}\n",
      "{'theta': Array([ 7.8261714, 87.97426  ], dtype=float32)}\n",
      "123.34365 {'theta': Array([ 7.8261714, 87.97426  ], dtype=float32)}\n",
      "{'theta': Array([ 7.3174357, 89.82227  ], dtype=float32)}\n",
      "89.39369 {'theta': Array([ 7.3174357, 89.82227  ], dtype=float32)}\n",
      "{'theta': Array([ 6.83997 , 91.376976], dtype=float32)}\n",
      "64.9329 {'theta': Array([ 6.83997 , 91.376976], dtype=float32)}\n",
      "{'theta': Array([ 6.398706, 92.686806], dtype=float32)}\n",
      "47.25512 {'theta': Array([ 6.398706, 92.686806], dtype=float32)}\n",
      "{'theta': Array([ 5.995742, 93.79182 ], dtype=float32)}\n",
      "34.446533 {'theta': Array([ 5.995742, 93.79182 ], dtype=float32)}\n",
      "{'theta': Array([ 5.6312294, 94.725204 ], dtype=float32)}\n",
      "25.145927 {'theta': Array([ 5.6312294, 94.725204 ], dtype=float32)}\n",
      "{'theta': Array([ 5.304023, 95.51455 ], dtype=float32)}\n",
      "18.38036 {'theta': Array([ 5.304023, 95.51455 ], dtype=float32)}\n",
      "{'theta': Array([ 5.0121546, 96.1828   ], dtype=float32)}\n",
      "13.451517 {'theta': Array([ 5.0121546, 96.1828   ], dtype=float32)}\n",
      "{'theta': Array([ 4.7531753, 96.74911  ], dtype=float32)}\n",
      "9.856277 {'theta': Array([ 4.7531753, 96.74911  ], dtype=float32)}\n",
      "{'theta': Array([ 4.5243945, 97.22946  ], dtype=float32)}\n",
      "7.2311425 {'theta': Array([ 4.5243945, 97.22946  ], dtype=float32)}\n",
      "{'theta': Array([ 4.3230505, 97.63725  ], dtype=float32)}\n",
      "5.3127356 {'theta': Array([ 4.3230505, 97.63725  ], dtype=float32)}\n",
      "{'theta': Array([ 4.146424, 97.98372 ], dtype=float32)}\n",
      "3.909806 {'theta': Array([ 4.146424, 97.98372 ], dtype=float32)}\n",
      "{'theta': Array([ 3.9919093, 98.27829  ], dtype=float32)}\n",
      "2.8832672 {'theta': Array([ 3.9919093, 98.27829  ], dtype=float32)}\n",
      "{'theta': Array([ 3.8570635, 98.52891  ], dtype=float32)}\n",
      "2.131777 {'theta': Array([ 3.8570635, 98.52891  ], dtype=float32)}\n",
      "{'theta': Array([ 3.7396293, 98.742256 ], dtype=float32)}\n",
      "1.5814334 {'theta': Array([ 3.7396293, 98.742256 ], dtype=float32)}\n",
      "{'theta': Array([ 3.6375456, 98.92398  ], dtype=float32)}\n",
      "1.1782628 {'theta': Array([ 3.6375456, 98.92398  ], dtype=float32)}\n",
      "{'theta': Array([ 3.5489483, 99.07885  ], dtype=float32)}\n",
      "0.88283336 {'theta': Array([ 3.5489483, 99.07885  ], dtype=float32)}\n",
      "{'theta': Array([ 3.4721642, 99.21089  ], dtype=float32)}\n",
      "0.6663054 {'theta': Array([ 3.4721642, 99.21089  ], dtype=float32)}\n",
      "{'theta': Array([ 3.4057012, 99.32352  ], dtype=float32)}\n",
      "0.5075806 {'theta': Array([ 3.4057012, 99.32352  ], dtype=float32)}\n",
      "{'theta': Array([ 3.3482356, 99.41962  ], dtype=float32)}\n",
      "0.3912124 {'theta': Array([ 3.3482356, 99.41962  ], dtype=float32)}\n",
      "{'theta': Array([ 3.2985983, 99.50165  ], dtype=float32)}\n",
      "0.30588457 {'theta': Array([ 3.2985983, 99.50165  ], dtype=float32)}\n",
      "{'theta': Array([ 3.25576, 99.57169], dtype=float32)}\n",
      "0.24331298 {'theta': Array([ 3.25576, 99.57169], dtype=float32)}\n",
      "{'theta': Array([ 3.218818, 99.631516], dtype=float32)}\n",
      "0.19742624 {'theta': Array([ 3.218818, 99.631516], dtype=float32)}\n",
      "{'theta': Array([ 3.1869829, 99.682625 ], dtype=float32)}\n",
      "0.163772 {'theta': Array([ 3.1869829, 99.682625 ], dtype=float32)}\n",
      "{'theta': Array([ 3.159566, 99.7263  ], dtype=float32)}\n",
      "0.13908656 {'theta': Array([ 3.159566, 99.7263  ], dtype=float32)}\n",
      "{'theta': Array([ 3.1359665, 99.76363  ], dtype=float32)}\n",
      "0.12098123 {'theta': Array([ 3.1359665, 99.76363  ], dtype=float32)}\n",
      "{'theta': Array([ 3.1156633, 99.79555  ], dtype=float32)}\n",
      "0.107701175 {'theta': Array([ 3.1156633, 99.79555  ], dtype=float32)}\n",
      "{'theta': Array([ 3.0982037, 99.82284  ], dtype=float32)}\n",
      "0.09795871 {'theta': Array([ 3.0982037, 99.82284  ], dtype=float32)}\n",
      "{'theta': Array([ 3.0831952, 99.846176 ], dtype=float32)}\n",
      "0.09081249 {'theta': Array([ 3.0831952, 99.846176 ], dtype=float32)}\n",
      "{'theta': Array([ 3.0702984, 99.866135 ], dtype=float32)}\n",
      "0.08557058 {'theta': Array([ 3.0702984, 99.866135 ], dtype=float32)}\n",
      "{'theta': Array([ 3.0592198, 99.88321  ], dtype=float32)}\n",
      "0.08172506 {'theta': Array([ 3.0592198, 99.88321  ], dtype=float32)}\n",
      "{'theta': Array([ 3.0497057, 99.89782  ], dtype=float32)}\n",
      "0.0789039 {'theta': Array([ 3.0497057, 99.89782  ], dtype=float32)}\n",
      "{'theta': Array([ 3.0415373, 99.91032  ], dtype=float32)}\n",
      "0.07683492 {'theta': Array([ 3.0415373, 99.91032  ], dtype=float32)}\n",
      "{'theta': Array([ 3.0345259, 99.92101  ], dtype=float32)}\n",
      "0.07531675 {'theta': Array([ 3.0345259, 99.92101  ], dtype=float32)}\n",
      "{'theta': Array([ 3.028509, 99.93017 ], dtype=float32)}\n",
      "0.07420299 {'theta': Array([ 3.028509, 99.93017 ], dtype=float32)}\n",
      "{'theta': Array([ 3.0233462, 99.938    ], dtype=float32)}\n",
      "0.07338576 {'theta': Array([ 3.0233462, 99.938    ], dtype=float32)}\n",
      "{'theta': Array([ 3.018917, 99.94471 ], dtype=float32)}\n",
      "0.07278639 {'theta': Array([ 3.018917, 99.94471 ], dtype=float32)}\n",
      "{'theta': Array([ 3.0151181, 99.95045  ], dtype=float32)}\n",
      "0.072347 {'theta': Array([ 3.0151181, 99.95045  ], dtype=float32)}\n",
      "{'theta': Array([ 3.0118601, 99.95536  ], dtype=float32)}\n",
      "0.0720244 {'theta': Array([ 3.0118601, 99.95536  ], dtype=float32)}\n",
      "{'theta': Array([ 3.0090663, 99.959564 ], dtype=float32)}\n",
      "0.07178781 {'theta': Array([ 3.0090663, 99.959564 ], dtype=float32)}\n",
      "{'theta': Array([ 3.006671, 99.963165], dtype=float32)}\n",
      "0.0716143 {'theta': Array([ 3.006671, 99.963165], dtype=float32)}\n",
      "{'theta': Array([ 3.0046175, 99.96625  ], dtype=float32)}\n",
      "0.07148688 {'theta': Array([ 3.0046175, 99.96625  ], dtype=float32)}\n",
      "{'theta': Array([ 3.002857, 99.96889 ], dtype=float32)}\n",
      "0.0713936 {'theta': Array([ 3.002857, 99.96889 ], dtype=float32)}\n",
      "{'theta': Array([ 3.001348, 99.971146], dtype=float32)}\n",
      "0.071325034 {'theta': Array([ 3.001348, 99.971146], dtype=float32)}\n",
      "{'theta': Array([ 3.0000546, 99.973076 ], dtype=float32)}\n",
      "0.07127514 {'theta': Array([ 3.0000546, 99.973076 ], dtype=float32)}\n",
      "{'theta': Array([ 2.9989462, 99.97473  ], dtype=float32)}\n",
      "0.071238056 {'theta': Array([ 2.9989462, 99.97473  ], dtype=float32)}\n",
      "{'theta': Array([ 2.9979966, 99.97615  ], dtype=float32)}\n",
      "0.07121111 {'theta': Array([ 2.9979966, 99.97615  ], dtype=float32)}\n",
      "{'theta': Array([ 2.9971826, 99.97736  ], dtype=float32)}\n",
      "0.071191125 {'theta': Array([ 2.9971826, 99.97736  ], dtype=float32)}\n",
      "{'theta': Array([ 2.9964852, 99.9784   ], dtype=float32)}\n",
      "0.07117666 {'theta': Array([ 2.9964852, 99.9784   ], dtype=float32)}\n",
      "{'theta': Array([ 2.9958878, 99.979294 ], dtype=float32)}\n",
      "0.07116584 {'theta': Array([ 2.9958878, 99.979294 ], dtype=float32)}\n",
      "{'theta': Array([ 2.9953756, 99.98006  ], dtype=float32)}\n",
      "0.0711582 {'theta': Array([ 2.9953756, 99.98006  ], dtype=float32)}\n",
      "{'theta': Array([ 2.994937, 99.98071 ], dtype=float32)}\n",
      "0.07115244 {'theta': Array([ 2.994937, 99.98071 ], dtype=float32)}\n",
      "{'theta': Array([ 2.994561, 99.98127 ], dtype=float32)}\n",
      "0.071148135 {'theta': Array([ 2.994561, 99.98127 ], dtype=float32)}\n",
      "{'theta': Array([ 2.9942389, 99.98175  ], dtype=float32)}\n",
      "0.07114543 {'theta': Array([ 2.9942389, 99.98175  ], dtype=float32)}\n",
      "{'theta': Array([ 2.993963, 99.98216 ], dtype=float32)}\n",
      "0.07114263 {'theta': Array([ 2.993963, 99.98216 ], dtype=float32)}\n",
      "{'theta': Array([ 2.9937265, 99.98251  ], dtype=float32)}\n",
      "0.07114147 {'theta': Array([ 2.9937265, 99.98251  ], dtype=float32)}\n",
      "{'theta': Array([ 2.9935238, 99.98281  ], dtype=float32)}\n",
      "0.07114006 {'theta': Array([ 2.9935238, 99.98281  ], dtype=float32)}\n",
      "{'theta': Array([ 2.9933505, 99.98307  ], dtype=float32)}\n",
      "0.071139045 {'theta': Array([ 2.9933505, 99.98307  ], dtype=float32)}\n",
      "{'theta': Array([ 2.993202, 99.98329 ], dtype=float32)}\n",
      "0.07113829 {'theta': Array([ 2.993202, 99.98329 ], dtype=float32)}\n",
      "{'theta': Array([ 2.9930747, 99.98348  ], dtype=float32)}\n",
      "0.07113776 {'theta': Array([ 2.9930747, 99.98348  ], dtype=float32)}\n",
      "{'theta': Array([ 2.9929655, 99.98364  ], dtype=float32)}\n",
      "0.07113759 {'theta': Array([ 2.9929655, 99.98364  ], dtype=float32)}\n",
      "{'theta': Array([ 2.992872, 99.98378 ], dtype=float32)}\n",
      "0.07113724 {'theta': Array([ 2.992872, 99.98378 ], dtype=float32)}\n",
      "{'theta': Array([ 2.9927921, 99.9839   ], dtype=float32)}\n",
      "0.07113716 {'theta': Array([ 2.9927921, 99.9839   ], dtype=float32)}\n",
      "{'theta': Array([ 2.9927235, 99.984    ], dtype=float32)}\n"
     ]
    }
   ],
   "source": [
    "## training loop\n",
    "# initial estimates\n",
    "params = {\n",
    "    'theta': jnp.array([0, 0], dtype=jnp.float32)\n",
    "}\n",
    "\n",
    "# hyperparmeters\n",
    "max_steps = 100\n",
    "eps = 1e-4\n",
    "\n",
    "step = 0\n",
    "\n",
    "# until we reach max_steps or the loss doesn't change by <eps>\n",
    "while step < max_steps:\n",
    "    # compute model value and grad\n",
    "    (loss, preds), grads = jax.value_and_grad(sum_squared_error, has_aux=True)(params, xs, ys)\n",
    "\n",
    "\n",
    "    print(loss, params)\n",
    "    params_ = update(params, grads)\n",
    "    print(params_)\n",
    "\n",
    "    if jnp.mean(jnp.abs(params['theta'] - params_['theta'])) < eps:\n",
    "        break\n",
    "    params = params_\n",
    "    step += 1\n",
    "    # # check diff \n",
    "    # prev_loss, diff = loss, jnp.abs(prev_loss - loss)"
   ]
  },
  {
   "cell_type": "code",
   "execution_count": 25,
   "id": "a6d4dff5-044b-43de-988a-8eea087a02ed",
   "metadata": {},
   "outputs": [
    {
     "data": {
      "text/plain": [
       "<matplotlib.collections.PathCollection at 0x7fc2a9f49590>"
      ]
     },
     "execution_count": 25,
     "metadata": {},
     "output_type": "execute_result"
    },
    {
     "data": {
      "image/png": "[encoded data removed]",
      "text/plain": [
       "<Figure size 640x480 with 1 Axes>"
      ]
     },
     "metadata": {},
     "output_type": "display_data"
    }
   ],
   "source": [
    "plt.scatter(xs[:,1], ys)"
   ]
  },
  {
   "cell_type": "code",
   "execution_count": null,
   "id": "a0ce54cc-74aa-4e45-8901-424cd59e0e24",
   "metadata": {},
   "outputs": [],
   "source": [
    "preds"
   ]
  },
  {
   "cell_type": "code",
   "execution_count": null,
   "id": "e14f6f96-c745-4abd-ac9f-c458f8f467d4",
   "metadata": {},
   "outputs": [],
   "source": [
    "grads"
   ]
  },
  {
   "cell_type": "code",
   "execution_count": null,
   "id": "83dcf20b-0e76-4eb5-b15a-feced4989dcf",
   "metadata": {},
   "outputs": [],
   "source": []
  }
 ],
 "metadata": {
  "kernelspec": {
   "display_name": "Python 3 (ipykernel)",
   "language": "python",
   "name": "python3"
  },
  "language_info": {
   "codemirror_mode": {
    "name": "ipython",
    "version": 3
   },
   "file_extension": ".py",
   "mimetype": "text/x-python",
   "name": "python",
   "nbconvert_exporter": "python",
   "pygments_lexer": "ipython3",
   "version": "3.11.5"
  }
 },
 "nbformat": 4,
 "nbformat_minor": 5
}
