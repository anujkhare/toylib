{
 "cells": [
  {
   "cell_type": "code",
   "execution_count": 1,
   "id": "cce6cd63-fecb-49bc-a039-fca679491267",
   "metadata": {
    "tags": []
   },
   "outputs": [],
   "source": [
    "# Make some dummy data"
   ]
  },
  {
   "cell_type": "code",
   "execution_count": 2,
   "id": "62cb75dd-e181-4d1d-bd97-b000da98a83c",
   "metadata": {
    "tags": []
   },
   "outputs": [],
   "source": [
    "# Plot it"
   ]
  },
  {
   "cell_type": "code",
   "execution_count": null,
   "id": "c7116ca2-5630-4da7-b2c0-a24425e3a575",
   "metadata": {},
   "outputs": [],
   "source": [
    "# Concept\n",
    "\n",
    "## Background\n",
    "\n",
    "## Questions / extensions\n",
    "1. homoskedaticity / hetero?\n",
    "2. "
   ]
  }
 ],
 "metadata": {
  "kernelspec": {
   "display_name": "Python 3 (ipykernel)",
   "language": "python",
   "name": "python3"
  },
  "language_info": {
   "codemirror_mode": {
    "name": "ipython",
    "version": 3
   },
   "file_extension": ".py",
   "mimetype": "text/x-python",
   "name": "python",
   "nbconvert_exporter": "python",
   "pygments_lexer": "ipython3",
   "version": "3.11.5"
  }
 },
 "nbformat": 4,
 "nbformat_minor": 5
}
